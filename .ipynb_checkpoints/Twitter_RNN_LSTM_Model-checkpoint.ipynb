{
 "cells": [
  {
   "cell_type": "code",
   "execution_count": 166,
   "metadata": {},
   "outputs": [],
   "source": [
    "# Initial imports\n",
    "import pandas as pd\n",
    "import numpy as np\n",
    "from pathlib import Path\n",
    "import tensorflow as tf\n",
    "\n",
    "%matplotlib inline"
   ]
  },
  {
   "cell_type": "code",
   "execution_count": 167,
   "metadata": {},
   "outputs": [],
   "source": [
    " # Set the random seed for reproducibility\n",
    "from numpy.random import seed\n",
    "seed(1)\n",
    "\n",
    "from tensorflow import random\n",
    "random.set_seed(2)"
   ]
  },
  {
   "cell_type": "code",
   "execution_count": 168,
   "metadata": {},
   "outputs": [
    {
     "data": {
      "text/html": [
       "<div>\n",
       "<style scoped>\n",
       "    .dataframe tbody tr th:only-of-type {\n",
       "        vertical-align: middle;\n",
       "    }\n",
       "\n",
       "    .dataframe tbody tr th {\n",
       "        vertical-align: top;\n",
       "    }\n",
       "\n",
       "    .dataframe thead th {\n",
       "        text-align: right;\n",
       "    }\n",
       "</style>\n",
       "<table border=\"1\" class=\"dataframe\">\n",
       "  <thead>\n",
       "    <tr style=\"text-align: right;\">\n",
       "      <th></th>\n",
       "      <th>date only</th>\n",
       "      <th>hour</th>\n",
       "      <th>Close</th>\n",
       "      <th>hourly return</th>\n",
       "      <th>tick</th>\n",
       "      <th>text</th>\n",
       "      <th>Subjectivity</th>\n",
       "      <th>Polarity</th>\n",
       "      <th>Analysis</th>\n",
       "      <th>date_x</th>\n",
       "      <th>date_y</th>\n",
       "    </tr>\n",
       "  </thead>\n",
       "  <tbody>\n",
       "    <tr>\n",
       "      <th>0</th>\n",
       "      <td>2020-10-12</td>\n",
       "      <td>18</td>\n",
       "      <td>NaN</td>\n",
       "      <td>NaN</td>\n",
       "      <td>NaN</td>\n",
       "      <td>good grief! spacex is getting zero money for t...</td>\n",
       "      <td>0.475000</td>\n",
       "      <td>-0.100000</td>\n",
       "      <td>Negative</td>\n",
       "      <td>2020-10-12 18:58:32-05:00</td>\n",
       "      <td>NaN</td>\n",
       "    </tr>\n",
       "    <tr>\n",
       "      <th>1</th>\n",
       "      <td>2020-10-12</td>\n",
       "      <td>16</td>\n",
       "      <td>NaN</td>\n",
       "      <td>NaN</td>\n",
       "      <td>NaN</td>\n",
       "      <td>with fsd, we got stuck in a lot of local maxim...</td>\n",
       "      <td>0.306349</td>\n",
       "      <td>0.128571</td>\n",
       "      <td>Positive</td>\n",
       "      <td>2020-10-12 16:23:59-05:00</td>\n",
       "      <td>NaN</td>\n",
       "    </tr>\n",
       "    <tr>\n",
       "      <th>2</th>\n",
       "      <td>2020-10-12</td>\n",
       "      <td>16</td>\n",
       "      <td>NaN</td>\n",
       "      <td>NaN</td>\n",
       "      <td>NaN</td>\n",
       "      <td>thank you, much more accurate haha</td>\n",
       "      <td>0.477778</td>\n",
       "      <td>0.366667</td>\n",
       "      <td>Positive</td>\n",
       "      <td>2020-10-12 16:20:01-05:00</td>\n",
       "      <td>NaN</td>\n",
       "    </tr>\n",
       "    <tr>\n",
       "      <th>3</th>\n",
       "      <td>2020-10-12</td>\n",
       "      <td>16</td>\n",
       "      <td>NaN</td>\n",
       "      <td>NaN</td>\n",
       "      <td>NaN</td>\n",
       "      <td>this graph appears to be upside down</td>\n",
       "      <td>0.288889</td>\n",
       "      <td>-0.155556</td>\n",
       "      <td>Negative</td>\n",
       "      <td>2020-10-12 16:11:19-05:00</td>\n",
       "      <td>NaN</td>\n",
       "    </tr>\n",
       "    <tr>\n",
       "      <th>4</th>\n",
       "      <td>2020-10-12</td>\n",
       "      <td>15</td>\n",
       "      <td>NaN</td>\n",
       "      <td>NaN</td>\n",
       "      <td>NaN</td>\n",
       "      <td>sheer magnitude of the entire production syste...</td>\n",
       "      <td>0.652778</td>\n",
       "      <td>0.026389</td>\n",
       "      <td>Positive</td>\n",
       "      <td>2020-10-12 15:29:44-05:00</td>\n",
       "      <td>NaN</td>\n",
       "    </tr>\n",
       "    <tr>\n",
       "      <th>...</th>\n",
       "      <td>...</td>\n",
       "      <td>...</td>\n",
       "      <td>...</td>\n",
       "      <td>...</td>\n",
       "      <td>...</td>\n",
       "      <td>...</td>\n",
       "      <td>...</td>\n",
       "      <td>...</td>\n",
       "      <td>...</td>\n",
       "      <td>...</td>\n",
       "      <td>...</td>\n",
       "    </tr>\n",
       "    <tr>\n",
       "      <th>70</th>\n",
       "      <td>2020-10-07</td>\n",
       "      <td>10</td>\n",
       "      <td>422.802399</td>\n",
       "      <td>0.006924</td>\n",
       "      <td>1.0</td>\n",
       "      <td>prototypes are a piece of cake, but high volum...</td>\n",
       "      <td>0.539697</td>\n",
       "      <td>0.001861</td>\n",
       "      <td>Positive</td>\n",
       "      <td>2020-10-07 10:02:17-05:00</td>\n",
       "      <td>2020-10-07 10:30:00-05:00</td>\n",
       "    </tr>\n",
       "    <tr>\n",
       "      <th>71</th>\n",
       "      <td>2020-10-07</td>\n",
       "      <td>9</td>\n",
       "      <td>419.894989</td>\n",
       "      <td>0.013142</td>\n",
       "      <td>1.0</td>\n",
       "      <td>we do expect to make heavy use of lfp for medi...</td>\n",
       "      <td>0.500000</td>\n",
       "      <td>-0.200000</td>\n",
       "      <td>Negative</td>\n",
       "      <td>2020-10-07 09:55:28-05:00</td>\n",
       "      <td>2020-10-07 09:30:00-05:00</td>\n",
       "    </tr>\n",
       "    <tr>\n",
       "      <th>72</th>\n",
       "      <td>2020-10-07</td>\n",
       "      <td>9</td>\n",
       "      <td>419.894989</td>\n",
       "      <td>0.013142</td>\n",
       "      <td>1.0</td>\n",
       "      <td>berlin will use 4680 cell with structural batt...</td>\n",
       "      <td>0.490584</td>\n",
       "      <td>0.142532</td>\n",
       "      <td>Positive</td>\n",
       "      <td>2020-10-07 09:53:15-05:00</td>\n",
       "      <td>2020-10-07 09:30:00-05:00</td>\n",
       "    </tr>\n",
       "    <tr>\n",
       "      <th>73</th>\n",
       "      <td>2020-10-07</td>\n",
       "      <td>9</td>\n",
       "      <td>419.894989</td>\n",
       "      <td>0.013142</td>\n",
       "      <td>1.0</td>\n",
       "      <td>they are</td>\n",
       "      <td>0.000000</td>\n",
       "      <td>0.000000</td>\n",
       "      <td>Neutral</td>\n",
       "      <td>2020-10-07 09:37:49-05:00</td>\n",
       "      <td>2020-10-07 09:30:00-05:00</td>\n",
       "    </tr>\n",
       "    <tr>\n",
       "      <th>74</th>\n",
       "      <td>2020-10-07</td>\n",
       "      <td>9</td>\n",
       "      <td>419.894989</td>\n",
       "      <td>0.013142</td>\n",
       "      <td>1.0</td>\n",
       "      <td>i do so wish that more companies would put dow...</td>\n",
       "      <td>0.394444</td>\n",
       "      <td>0.172222</td>\n",
       "      <td>Positive</td>\n",
       "      <td>2020-10-07 09:33:53-05:00</td>\n",
       "      <td>2020-10-07 09:30:00-05:00</td>\n",
       "    </tr>\n",
       "  </tbody>\n",
       "</table>\n",
       "<p>75 rows × 11 columns</p>\n",
       "</div>"
      ],
      "text/plain": [
       "     date only  hour       Close  hourly return  tick  \\\n",
       "0   2020-10-12    18         NaN            NaN   NaN   \n",
       "1   2020-10-12    16         NaN            NaN   NaN   \n",
       "2   2020-10-12    16         NaN            NaN   NaN   \n",
       "3   2020-10-12    16         NaN            NaN   NaN   \n",
       "4   2020-10-12    15         NaN            NaN   NaN   \n",
       "..         ...   ...         ...            ...   ...   \n",
       "70  2020-10-07    10  422.802399       0.006924   1.0   \n",
       "71  2020-10-07     9  419.894989       0.013142   1.0   \n",
       "72  2020-10-07     9  419.894989       0.013142   1.0   \n",
       "73  2020-10-07     9  419.894989       0.013142   1.0   \n",
       "74  2020-10-07     9  419.894989       0.013142   1.0   \n",
       "\n",
       "                                                 text  Subjectivity  Polarity  \\\n",
       "0   good grief! spacex is getting zero money for t...      0.475000 -0.100000   \n",
       "1   with fsd, we got stuck in a lot of local maxim...      0.306349  0.128571   \n",
       "2                  thank you, much more accurate haha      0.477778  0.366667   \n",
       "3                this graph appears to be upside down      0.288889 -0.155556   \n",
       "4   sheer magnitude of the entire production syste...      0.652778  0.026389   \n",
       "..                                                ...           ...       ...   \n",
       "70  prototypes are a piece of cake, but high volum...      0.539697  0.001861   \n",
       "71  we do expect to make heavy use of lfp for medi...      0.500000 -0.200000   \n",
       "72  berlin will use 4680 cell with structural batt...      0.490584  0.142532   \n",
       "73                                           they are      0.000000  0.000000   \n",
       "74  i do so wish that more companies would put dow...      0.394444  0.172222   \n",
       "\n",
       "    Analysis                     date_x                     date_y  \n",
       "0   Negative  2020-10-12 18:58:32-05:00                        NaN  \n",
       "1   Positive  2020-10-12 16:23:59-05:00                        NaN  \n",
       "2   Positive  2020-10-12 16:20:01-05:00                        NaN  \n",
       "3   Negative  2020-10-12 16:11:19-05:00                        NaN  \n",
       "4   Positive  2020-10-12 15:29:44-05:00                        NaN  \n",
       "..       ...                        ...                        ...  \n",
       "70  Positive  2020-10-07 10:02:17-05:00  2020-10-07 10:30:00-05:00  \n",
       "71  Negative  2020-10-07 09:55:28-05:00  2020-10-07 09:30:00-05:00  \n",
       "72  Positive  2020-10-07 09:53:15-05:00  2020-10-07 09:30:00-05:00  \n",
       "73   Neutral  2020-10-07 09:37:49-05:00  2020-10-07 09:30:00-05:00  \n",
       "74  Positive  2020-10-07 09:33:53-05:00  2020-10-07 09:30:00-05:00  \n",
       "\n",
       "[75 rows x 11 columns]"
      ]
     },
     "execution_count": 168,
     "metadata": {},
     "output_type": "execute_result"
    }
   ],
   "source": [
    "file_path = Path(\"C:\\\\Users\\\\Zach.000\\\\Documents\\\\SMUFinTech\\\\GitHub\\\\Portfolio\\\\project-3\\\\Resources\\\\elonmusk_tweets_hourly_price.csv\")\n",
    "df_tweet = pd.read_csv(file_path)\n",
    "df_tweet.head(75)"
   ]
  },
  {
   "cell_type": "code",
   "execution_count": 169,
   "metadata": {},
   "outputs": [
    {
     "data": {
      "text/html": [
       "<div>\n",
       "<style scoped>\n",
       "    .dataframe tbody tr th:only-of-type {\n",
       "        vertical-align: middle;\n",
       "    }\n",
       "\n",
       "    .dataframe tbody tr th {\n",
       "        vertical-align: top;\n",
       "    }\n",
       "\n",
       "    .dataframe thead th {\n",
       "        text-align: right;\n",
       "    }\n",
       "</style>\n",
       "<table border=\"1\" class=\"dataframe\">\n",
       "  <thead>\n",
       "    <tr style=\"text-align: right;\">\n",
       "      <th></th>\n",
       "      <th>date only</th>\n",
       "      <th>hour</th>\n",
       "      <th>Close</th>\n",
       "      <th>hourly return</th>\n",
       "      <th>tick</th>\n",
       "      <th>text</th>\n",
       "      <th>Subjectivity</th>\n",
       "      <th>Polarity</th>\n",
       "      <th>Analysis</th>\n",
       "      <th>date_x</th>\n",
       "      <th>date_y</th>\n",
       "    </tr>\n",
       "  </thead>\n",
       "  <tbody>\n",
       "    <tr>\n",
       "      <th>41</th>\n",
       "      <td>2020-10-08</td>\n",
       "      <td>14</td>\n",
       "      <td>425.920013</td>\n",
       "      <td>-0.004204</td>\n",
       "      <td>0.0</td>\n",
       "      <td>meant to say that it should be fixed in the la...</td>\n",
       "      <td>0.500000</td>\n",
       "      <td>0.166667</td>\n",
       "      <td>Positive</td>\n",
       "      <td>2020-10-08 14:33:47-05:00</td>\n",
       "      <td>2020-10-08 14:30:00-05:00</td>\n",
       "    </tr>\n",
       "    <tr>\n",
       "      <th>42</th>\n",
       "      <td>2020-10-08</td>\n",
       "      <td>14</td>\n",
       "      <td>425.920013</td>\n",
       "      <td>-0.004204</td>\n",
       "      <td>0.0</td>\n",
       "      <td>it should be</td>\n",
       "      <td>0.000000</td>\n",
       "      <td>0.000000</td>\n",
       "      <td>Neutral</td>\n",
       "      <td>2020-10-08 14:32:53-05:00</td>\n",
       "      <td>2020-10-08 14:30:00-05:00</td>\n",
       "    </tr>\n",
       "    <tr>\n",
       "      <th>43</th>\n",
       "      <td>2020-10-08</td>\n",
       "      <td>14</td>\n",
       "      <td>425.920013</td>\n",
       "      <td>-0.004204</td>\n",
       "      <td>0.0</td>\n",
       "      <td>exactly. we barked up that tree for way too lo...</td>\n",
       "      <td>0.438068</td>\n",
       "      <td>-0.070455</td>\n",
       "      <td>Negative</td>\n",
       "      <td>2020-10-08 14:18:15-05:00</td>\n",
       "      <td>2020-10-08 14:30:00-05:00</td>\n",
       "    </tr>\n",
       "    <tr>\n",
       "      <th>44</th>\n",
       "      <td>2020-10-08</td>\n",
       "      <td>14</td>\n",
       "      <td>425.920013</td>\n",
       "      <td>-0.004204</td>\n",
       "      <td>0.0</td>\n",
       "      <td>yes, we will play sexy snake jazz</td>\n",
       "      <td>1.000000</td>\n",
       "      <td>0.500000</td>\n",
       "      <td>Positive</td>\n",
       "      <td>2020-10-08 14:07:41-05:00</td>\n",
       "      <td>2020-10-08 14:30:00-05:00</td>\n",
       "    </tr>\n",
       "    <tr>\n",
       "      <th>45</th>\n",
       "      <td>2020-10-08</td>\n",
       "      <td>14</td>\n",
       "      <td>425.920013</td>\n",
       "      <td>-0.004204</td>\n",
       "      <td>0.0</td>\n",
       "      <td>yeah, provided we do our metal gear snake auto...</td>\n",
       "      <td>0.000000</td>\n",
       "      <td>0.000000</td>\n",
       "      <td>Neutral</td>\n",
       "      <td>2020-10-08 14:03:47-05:00</td>\n",
       "      <td>2020-10-08 14:30:00-05:00</td>\n",
       "    </tr>\n",
       "  </tbody>\n",
       "</table>\n",
       "</div>"
      ],
      "text/plain": [
       "     date only  hour       Close  hourly return  tick  \\\n",
       "41  2020-10-08    14  425.920013      -0.004204   0.0   \n",
       "42  2020-10-08    14  425.920013      -0.004204   0.0   \n",
       "43  2020-10-08    14  425.920013      -0.004204   0.0   \n",
       "44  2020-10-08    14  425.920013      -0.004204   0.0   \n",
       "45  2020-10-08    14  425.920013      -0.004204   0.0   \n",
       "\n",
       "                                                 text  Subjectivity  Polarity  \\\n",
       "41  meant to say that it should be fixed in the la...      0.500000  0.166667   \n",
       "42                                       it should be      0.000000  0.000000   \n",
       "43  exactly. we barked up that tree for way too lo...      0.438068 -0.070455   \n",
       "44                 yes, we will play sexy snake jazz       1.000000  0.500000   \n",
       "45  yeah, provided we do our metal gear snake auto...      0.000000  0.000000   \n",
       "\n",
       "    Analysis                     date_x                     date_y  \n",
       "41  Positive  2020-10-08 14:33:47-05:00  2020-10-08 14:30:00-05:00  \n",
       "42   Neutral  2020-10-08 14:32:53-05:00  2020-10-08 14:30:00-05:00  \n",
       "43  Negative  2020-10-08 14:18:15-05:00  2020-10-08 14:30:00-05:00  \n",
       "44  Positive  2020-10-08 14:07:41-05:00  2020-10-08 14:30:00-05:00  \n",
       "45   Neutral  2020-10-08 14:03:47-05:00  2020-10-08 14:30:00-05:00  "
      ]
     },
     "execution_count": 169,
     "metadata": {},
     "output_type": "execute_result"
    }
   ],
   "source": [
    "df_tweet.dropna(inplace=True)\n",
    "df_tweet.head()"
   ]
  },
  {
   "cell_type": "code",
   "execution_count": 207,
   "metadata": {},
   "outputs": [
    {
     "data": {
      "text/plain": [
       "(586, 11)"
      ]
     },
     "execution_count": 207,
     "metadata": {},
     "output_type": "execute_result"
    }
   ],
   "source": [
    "df_tweet.shape"
   ]
  },
  {
   "cell_type": "code",
   "execution_count": 171,
   "metadata": {},
   "outputs": [],
   "source": [
    " # Create the features set (X) and the target vector (y)\n",
    "X = df_tweet[\"text\"].values\n",
    "y = df_tweet[\"tick\"].values"
   ]
  },
  {
   "cell_type": "code",
   "execution_count": 172,
   "metadata": {},
   "outputs": [],
   "source": [
    " # Import the Tokenizer method from Keras\n",
    "from tensorflow.keras.preprocessing.text import Tokenizer"
   ]
  },
  {
   "cell_type": "code",
   "execution_count": 173,
   "metadata": {},
   "outputs": [],
   "source": [
    " # Create an instance of the Tokenizer and fit it with the X text data\n",
    "tokenizer = Tokenizer(lower=True)\n",
    "tokenizer.fit_on_texts(X)"
   ]
  },
  {
   "cell_type": "code",
   "execution_count": 174,
   "metadata": {},
   "outputs": [
    {
     "name": "stdout",
     "output_type": "stream",
     "text": [
      "word: 'the', token: 1\n",
      "word: 'is', token: 2\n",
      "word: 'to', token: 3\n",
      "word: 'a', token: 4\n",
      "word: 'of', token: 5\n"
     ]
    }
   ],
   "source": [
    " # Print the first five elements of the encoded vocabulary\n",
    "for token in list(tokenizer.word_index)[:5]:\n",
    "    print(f\"word: '{token}', token: {tokenizer.word_index[token]}\")"
   ]
  },
  {
   "cell_type": "code",
   "execution_count": 175,
   "metadata": {},
   "outputs": [],
   "source": [
    "# Transform the text data to numerical sequences\n",
    "X_seq = tokenizer.texts_to_sequences(X)"
   ]
  },
  {
   "cell_type": "code",
   "execution_count": 176,
   "metadata": {},
   "outputs": [
    {
     "name": "stdout",
     "output_type": "stream",
     "text": [
      "**Text comment**\n",
      "{'meant to say that it should be fixed in the latest wide release. won need to wait for fsd.'}\n"
     ]
    }
   ],
   "source": [
    " # Contrast a sample numerical sequence with its text version\n",
    "print(\"**Text comment**\")\n",
    "print({X[0]})"
   ]
  },
  {
   "cell_type": "code",
   "execution_count": 177,
   "metadata": {},
   "outputs": [
    {
     "name": "stdout",
     "output_type": "stream",
     "text": [
      "**Numerical sequence representation**\n",
      "[223, 3, 280, 8, 11, 22, 9, 933, 6, 1, 374, 375, 281, 125, 75, 3, 934, 10, 282]\n"
     ]
    }
   ],
   "source": [
    "print(\"**Numerical sequence representation**\")\n",
    "print(X_seq[0])"
   ]
  },
  {
   "cell_type": "code",
   "execution_count": 178,
   "metadata": {},
   "outputs": [],
   "source": [
    "# Import the pad_sequences method from Keras\n",
    "from tensorflow.keras.preprocessing.sequence import pad_sequences"
   ]
  },
  {
   "cell_type": "code",
   "execution_count": 179,
   "metadata": {},
   "outputs": [],
   "source": [
    " # Set the pad size\n",
    "max_words = 280\n",
    "\n",
    "# Pad the sequences using the pad_sequences() method\n",
    "X_pad = pad_sequences(X_seq, maxlen=max_words, padding=\"post\")"
   ]
  },
  {
   "cell_type": "code",
   "execution_count": 180,
   "metadata": {},
   "outputs": [],
   "source": [
    " # Create the train, test, and validation sets\n",
    "from sklearn.model_selection import train_test_split\n",
    "\n",
    "X_train, X_test, y_train, y_test = train_test_split(X_pad, y)\n",
    "\n",
    "X_train, X_val, y_train, y_val = train_test_split(X_train, y_train)"
   ]
  },
  {
   "cell_type": "code",
   "execution_count": 181,
   "metadata": {},
   "outputs": [],
   "source": [
    " # Import Keras modules for model creation\n",
    "from tensorflow.keras.models import Sequential\n",
    "from tensorflow.keras.layers import Embedding, LSTM, Dense"
   ]
  },
  {
   "cell_type": "code",
   "execution_count": 182,
   "metadata": {},
   "outputs": [],
   "source": [
    " # Model set-up\n",
    "vocabulary_size = len(tokenizer.word_counts.keys()) + 1\n",
    "embedding_size = 64"
   ]
  },
  {
   "cell_type": "code",
   "execution_count": 183,
   "metadata": {},
   "outputs": [],
   "source": [
    " # Define the LSTM RNN model\n",
    "model = Sequential()\n",
    "\n",
    "# Layer 1\n",
    "model.add(Embedding(vocabulary_size, embedding_size, input_length=max_words))\n",
    "\n",
    "# Layer 2\n",
    "model.add(LSTM(units=280))\n",
    "\n",
    "# Output layer\n",
    "model.add(Dense(units=1, activation=\"sigmoid\")) "
   ]
  },
  {
   "cell_type": "code",
   "execution_count": 184,
   "metadata": {},
   "outputs": [],
   "source": [
    "# Compile the model\n",
    "model.compile(\n",
    "    loss=\"binary_crossentropy\",\n",
    "    optimizer=\"adam\",\n",
    "    metrics=[\n",
    "        \"accuracy\",\n",
    "        tf.keras.metrics.TruePositives(name=\"tp\"),\n",
    "        tf.keras.metrics.TrueNegatives(name=\"tn\"),\n",
    "        tf.keras.metrics.FalsePositives(name=\"fp\"),\n",
    "        tf.keras.metrics.FalseNegatives(name=\"fn\"),\n",
    "        tf.keras.metrics.Precision(name=\"precision\"),\n",
    "        tf.keras.metrics.Recall(name=\"recall\"),\n",
    "        tf.keras.metrics.AUC(name=\"auc\"),\n",
    "    ],\n",
    ")"
   ]
  },
  {
   "cell_type": "code",
   "execution_count": 185,
   "metadata": {},
   "outputs": [
    {
     "name": "stdout",
     "output_type": "stream",
     "text": [
      "Model: \"sequential_7\"\n",
      "_________________________________________________________________\n",
      "Layer (type)                 Output Shape              Param #   \n",
      "=================================================================\n",
      "embedding_7 (Embedding)      (None, 280, 64)           156352    \n",
      "_________________________________________________________________\n",
      "lstm_7 (LSTM)                (None, 280)               386400    \n",
      "_________________________________________________________________\n",
      "dense_6 (Dense)              (None, 1)                 281       \n",
      "=================================================================\n",
      "Total params: 543,033\n",
      "Trainable params: 543,033\n",
      "Non-trainable params: 0\n",
      "_________________________________________________________________\n"
     ]
    }
   ],
   "source": [
    " # Show model summary\n",
    "model.summary()"
   ]
  },
  {
   "cell_type": "code",
   "execution_count": 213,
   "metadata": {
    "scrolled": true
   },
   "outputs": [
    {
     "name": "stdout",
     "output_type": "stream",
     "text": [
      "Epoch 1/100\n",
      "1/1 [==============================] - 8s 8s/step - loss: 0.6918 - accuracy: 0.5258 - tp: 173.0000 - tn: 0.0000e+00 - fp: 156.0000 - fn: 0.0000e+00 - precision: 0.5258 - recall: 1.0000 - auc: 0.5000 - val_loss: 0.6917 - val_accuracy: 0.5273 - val_tp: 58.0000 - val_tn: 0.0000e+00 - val_fp: 52.0000 - val_fn: 0.0000e+00 - val_precision: 0.5273 - val_recall: 1.0000 - val_auc: 0.5000\n",
      "Epoch 2/100\n",
      "1/1 [==============================] - 1s 619ms/step - loss: 0.6918 - accuracy: 0.5258 - tp: 173.0000 - tn: 0.0000e+00 - fp: 156.0000 - fn: 0.0000e+00 - precision: 0.5258 - recall: 1.0000 - auc: 0.5000 - val_loss: 0.6917 - val_accuracy: 0.5273 - val_tp: 58.0000 - val_tn: 0.0000e+00 - val_fp: 52.0000 - val_fn: 0.0000e+00 - val_precision: 0.5273 - val_recall: 1.0000 - val_auc: 0.5000\n",
      "Epoch 3/100\n",
      "1/1 [==============================] - 1s 567ms/step - loss: 0.6918 - accuracy: 0.5258 - tp: 173.0000 - tn: 0.0000e+00 - fp: 156.0000 - fn: 0.0000e+00 - precision: 0.5258 - recall: 1.0000 - auc: 0.5000 - val_loss: 0.6917 - val_accuracy: 0.5273 - val_tp: 58.0000 - val_tn: 0.0000e+00 - val_fp: 52.0000 - val_fn: 0.0000e+00 - val_precision: 0.5273 - val_recall: 1.0000 - val_auc: 0.5000\n",
      "Epoch 4/100\n",
      "1/1 [==============================] - 1s 584ms/step - loss: 0.6918 - accuracy: 0.5258 - tp: 173.0000 - tn: 0.0000e+00 - fp: 156.0000 - fn: 0.0000e+00 - precision: 0.5258 - recall: 1.0000 - auc: 0.5000 - val_loss: 0.6917 - val_accuracy: 0.5273 - val_tp: 58.0000 - val_tn: 0.0000e+00 - val_fp: 52.0000 - val_fn: 0.0000e+00 - val_precision: 0.5273 - val_recall: 1.0000 - val_auc: 0.5000\n",
      "Epoch 5/100\n",
      "1/1 [==============================] - 1s 546ms/step - loss: 0.6918 - accuracy: 0.5258 - tp: 173.0000 - tn: 0.0000e+00 - fp: 156.0000 - fn: 0.0000e+00 - precision: 0.5258 - recall: 1.0000 - auc: 0.5000 - val_loss: 0.6917 - val_accuracy: 0.5273 - val_tp: 58.0000 - val_tn: 0.0000e+00 - val_fp: 52.0000 - val_fn: 0.0000e+00 - val_precision: 0.5273 - val_recall: 1.0000 - val_auc: 0.5000\n",
      "Epoch 6/100\n",
      "1/1 [==============================] - 1s 533ms/step - loss: 0.6918 - accuracy: 0.5258 - tp: 173.0000 - tn: 0.0000e+00 - fp: 156.0000 - fn: 0.0000e+00 - precision: 0.5258 - recall: 1.0000 - auc: 0.5000 - val_loss: 0.6917 - val_accuracy: 0.5273 - val_tp: 58.0000 - val_tn: 0.0000e+00 - val_fp: 52.0000 - val_fn: 0.0000e+00 - val_precision: 0.5273 - val_recall: 1.0000 - val_auc: 0.5000\n",
      "Epoch 7/100\n",
      "1/1 [==============================] - 1s 601ms/step - loss: 0.6918 - accuracy: 0.5258 - tp: 173.0000 - tn: 0.0000e+00 - fp: 156.0000 - fn: 0.0000e+00 - precision: 0.5258 - recall: 1.0000 - auc: 0.5000 - val_loss: 0.6917 - val_accuracy: 0.5273 - val_tp: 58.0000 - val_tn: 0.0000e+00 - val_fp: 52.0000 - val_fn: 0.0000e+00 - val_precision: 0.5273 - val_recall: 1.0000 - val_auc: 0.5000\n",
      "Epoch 8/100\n",
      "1/1 [==============================] - 1s 597ms/step - loss: 0.6918 - accuracy: 0.5258 - tp: 173.0000 - tn: 0.0000e+00 - fp: 156.0000 - fn: 0.0000e+00 - precision: 0.5258 - recall: 1.0000 - auc: 0.5000 - val_loss: 0.6917 - val_accuracy: 0.5273 - val_tp: 58.0000 - val_tn: 0.0000e+00 - val_fp: 52.0000 - val_fn: 0.0000e+00 - val_precision: 0.5273 - val_recall: 1.0000 - val_auc: 0.5000\n",
      "Epoch 9/100\n",
      "1/1 [==============================] - 1s 628ms/step - loss: 0.6918 - accuracy: 0.5258 - tp: 173.0000 - tn: 0.0000e+00 - fp: 156.0000 - fn: 0.0000e+00 - precision: 0.5258 - recall: 1.0000 - auc: 0.5000 - val_loss: 0.6917 - val_accuracy: 0.5273 - val_tp: 58.0000 - val_tn: 0.0000e+00 - val_fp: 52.0000 - val_fn: 0.0000e+00 - val_precision: 0.5273 - val_recall: 1.0000 - val_auc: 0.5000\n",
      "Epoch 10/100\n",
      "1/1 [==============================] - 1s 567ms/step - loss: 0.6918 - accuracy: 0.5258 - tp: 173.0000 - tn: 0.0000e+00 - fp: 156.0000 - fn: 0.0000e+00 - precision: 0.5258 - recall: 1.0000 - auc: 0.5000 - val_loss: 0.6917 - val_accuracy: 0.5273 - val_tp: 58.0000 - val_tn: 0.0000e+00 - val_fp: 52.0000 - val_fn: 0.0000e+00 - val_precision: 0.5273 - val_recall: 1.0000 - val_auc: 0.5000\n",
      "Epoch 11/100\n",
      "1/1 [==============================] - 1s 663ms/step - loss: 0.6918 - accuracy: 0.5258 - tp: 173.0000 - tn: 0.0000e+00 - fp: 156.0000 - fn: 0.0000e+00 - precision: 0.5258 - recall: 1.0000 - auc: 0.5000 - val_loss: 0.6917 - val_accuracy: 0.5273 - val_tp: 58.0000 - val_tn: 0.0000e+00 - val_fp: 52.0000 - val_fn: 0.0000e+00 - val_precision: 0.5273 - val_recall: 1.0000 - val_auc: 0.5000\n",
      "Epoch 12/100\n",
      "1/1 [==============================] - 1s 580ms/step - loss: 0.6918 - accuracy: 0.5258 - tp: 173.0000 - tn: 0.0000e+00 - fp: 156.0000 - fn: 0.0000e+00 - precision: 0.5258 - recall: 1.0000 - auc: 0.5000 - val_loss: 0.6917 - val_accuracy: 0.5273 - val_tp: 58.0000 - val_tn: 0.0000e+00 - val_fp: 52.0000 - val_fn: 0.0000e+00 - val_precision: 0.5273 - val_recall: 1.0000 - val_auc: 0.5000\n",
      "Epoch 13/100\n",
      "1/1 [==============================] - 1s 575ms/step - loss: 0.6918 - accuracy: 0.5258 - tp: 173.0000 - tn: 0.0000e+00 - fp: 156.0000 - fn: 0.0000e+00 - precision: 0.5258 - recall: 1.0000 - auc: 0.5000 - val_loss: 0.6917 - val_accuracy: 0.5273 - val_tp: 58.0000 - val_tn: 0.0000e+00 - val_fp: 52.0000 - val_fn: 0.0000e+00 - val_precision: 0.5273 - val_recall: 1.0000 - val_auc: 0.5000\n",
      "Epoch 14/100\n",
      "1/1 [==============================] - 1s 555ms/step - loss: 0.6918 - accuracy: 0.5258 - tp: 173.0000 - tn: 0.0000e+00 - fp: 156.0000 - fn: 0.0000e+00 - precision: 0.5258 - recall: 1.0000 - auc: 0.5000 - val_loss: 0.6917 - val_accuracy: 0.5273 - val_tp: 58.0000 - val_tn: 0.0000e+00 - val_fp: 52.0000 - val_fn: 0.0000e+00 - val_precision: 0.5273 - val_recall: 1.0000 - val_auc: 0.5000\n",
      "Epoch 15/100\n",
      "1/1 [==============================] - 1s 581ms/step - loss: 0.6918 - accuracy: 0.5258 - tp: 173.0000 - tn: 0.0000e+00 - fp: 156.0000 - fn: 0.0000e+00 - precision: 0.5258 - recall: 1.0000 - auc: 0.5000 - val_loss: 0.6917 - val_accuracy: 0.5273 - val_tp: 58.0000 - val_tn: 0.0000e+00 - val_fp: 52.0000 - val_fn: 0.0000e+00 - val_precision: 0.5273 - val_recall: 1.0000 - val_auc: 0.5000\n",
      "Epoch 16/100\n",
      "1/1 [==============================] - 1s 580ms/step - loss: 0.6918 - accuracy: 0.5258 - tp: 173.0000 - tn: 0.0000e+00 - fp: 156.0000 - fn: 0.0000e+00 - precision: 0.5258 - recall: 1.0000 - auc: 0.5000 - val_loss: 0.6917 - val_accuracy: 0.5273 - val_tp: 58.0000 - val_tn: 0.0000e+00 - val_fp: 52.0000 - val_fn: 0.0000e+00 - val_precision: 0.5273 - val_recall: 1.0000 - val_auc: 0.5000\n",
      "Epoch 17/100\n",
      "1/1 [==============================] - 1s 572ms/step - loss: 0.6918 - accuracy: 0.5258 - tp: 173.0000 - tn: 0.0000e+00 - fp: 156.0000 - fn: 0.0000e+00 - precision: 0.5258 - recall: 1.0000 - auc: 0.5000 - val_loss: 0.6917 - val_accuracy: 0.5273 - val_tp: 58.0000 - val_tn: 0.0000e+00 - val_fp: 52.0000 - val_fn: 0.0000e+00 - val_precision: 0.5273 - val_recall: 1.0000 - val_auc: 0.5000\n",
      "Epoch 18/100\n",
      "1/1 [==============================] - 1s 568ms/step - loss: 0.6918 - accuracy: 0.5258 - tp: 173.0000 - tn: 0.0000e+00 - fp: 156.0000 - fn: 0.0000e+00 - precision: 0.5258 - recall: 1.0000 - auc: 0.5000 - val_loss: 0.6917 - val_accuracy: 0.5273 - val_tp: 58.0000 - val_tn: 0.0000e+00 - val_fp: 52.0000 - val_fn: 0.0000e+00 - val_precision: 0.5273 - val_recall: 1.0000 - val_auc: 0.5000\n",
      "Epoch 19/100\n",
      "1/1 [==============================] - 1s 618ms/step - loss: 0.6918 - accuracy: 0.5258 - tp: 173.0000 - tn: 0.0000e+00 - fp: 156.0000 - fn: 0.0000e+00 - precision: 0.5258 - recall: 1.0000 - auc: 0.5000 - val_loss: 0.6917 - val_accuracy: 0.5273 - val_tp: 58.0000 - val_tn: 0.0000e+00 - val_fp: 52.0000 - val_fn: 0.0000e+00 - val_precision: 0.5273 - val_recall: 1.0000 - val_auc: 0.5000\n",
      "Epoch 20/100\n",
      "1/1 [==============================] - 1s 566ms/step - loss: 0.6918 - accuracy: 0.5258 - tp: 173.0000 - tn: 0.0000e+00 - fp: 156.0000 - fn: 0.0000e+00 - precision: 0.5258 - recall: 1.0000 - auc: 0.5000 - val_loss: 0.6917 - val_accuracy: 0.5273 - val_tp: 58.0000 - val_tn: 0.0000e+00 - val_fp: 52.0000 - val_fn: 0.0000e+00 - val_precision: 0.5273 - val_recall: 1.0000 - val_auc: 0.5000\n",
      "Epoch 21/100\n",
      "1/1 [==============================] - 1s 634ms/step - loss: 0.6918 - accuracy: 0.5258 - tp: 173.0000 - tn: 0.0000e+00 - fp: 156.0000 - fn: 0.0000e+00 - precision: 0.5258 - recall: 1.0000 - auc: 0.5000 - val_loss: 0.6917 - val_accuracy: 0.5273 - val_tp: 58.0000 - val_tn: 0.0000e+00 - val_fp: 52.0000 - val_fn: 0.0000e+00 - val_precision: 0.5273 - val_recall: 1.0000 - val_auc: 0.5000\n"
     ]
    },
    {
     "name": "stdout",
     "output_type": "stream",
     "text": [
      "Epoch 22/100\n",
      "1/1 [==============================] - 1s 613ms/step - loss: 0.6918 - accuracy: 0.5258 - tp: 173.0000 - tn: 0.0000e+00 - fp: 156.0000 - fn: 0.0000e+00 - precision: 0.5258 - recall: 1.0000 - auc: 0.5000 - val_loss: 0.6917 - val_accuracy: 0.5273 - val_tp: 58.0000 - val_tn: 0.0000e+00 - val_fp: 52.0000 - val_fn: 0.0000e+00 - val_precision: 0.5273 - val_recall: 1.0000 - val_auc: 0.5000\n",
      "Epoch 23/100\n",
      "1/1 [==============================] - 1s 593ms/step - loss: 0.6918 - accuracy: 0.5258 - tp: 173.0000 - tn: 0.0000e+00 - fp: 156.0000 - fn: 0.0000e+00 - precision: 0.5258 - recall: 1.0000 - auc: 0.5000 - val_loss: 0.6917 - val_accuracy: 0.5273 - val_tp: 58.0000 - val_tn: 0.0000e+00 - val_fp: 52.0000 - val_fn: 0.0000e+00 - val_precision: 0.5273 - val_recall: 1.0000 - val_auc: 0.5000\n",
      "Epoch 24/100\n",
      "1/1 [==============================] - 1s 623ms/step - loss: 0.6918 - accuracy: 0.5258 - tp: 173.0000 - tn: 0.0000e+00 - fp: 156.0000 - fn: 0.0000e+00 - precision: 0.5258 - recall: 1.0000 - auc: 0.5000 - val_loss: 0.6917 - val_accuracy: 0.5273 - val_tp: 58.0000 - val_tn: 0.0000e+00 - val_fp: 52.0000 - val_fn: 0.0000e+00 - val_precision: 0.5273 - val_recall: 1.0000 - val_auc: 0.5000\n",
      "Epoch 25/100\n",
      "1/1 [==============================] - 1s 598ms/step - loss: 0.6918 - accuracy: 0.5258 - tp: 173.0000 - tn: 0.0000e+00 - fp: 156.0000 - fn: 0.0000e+00 - precision: 0.5258 - recall: 1.0000 - auc: 0.5000 - val_loss: 0.6917 - val_accuracy: 0.5273 - val_tp: 58.0000 - val_tn: 0.0000e+00 - val_fp: 52.0000 - val_fn: 0.0000e+00 - val_precision: 0.5273 - val_recall: 1.0000 - val_auc: 0.5000\n",
      "Epoch 26/100\n",
      "1/1 [==============================] - 1s 613ms/step - loss: 0.6918 - accuracy: 0.5258 - tp: 173.0000 - tn: 0.0000e+00 - fp: 156.0000 - fn: 0.0000e+00 - precision: 0.5258 - recall: 1.0000 - auc: 0.5000 - val_loss: 0.6917 - val_accuracy: 0.5273 - val_tp: 58.0000 - val_tn: 0.0000e+00 - val_fp: 52.0000 - val_fn: 0.0000e+00 - val_precision: 0.5273 - val_recall: 1.0000 - val_auc: 0.5000\n",
      "Epoch 27/100\n",
      "1/1 [==============================] - 1s 561ms/step - loss: 0.6918 - accuracy: 0.5258 - tp: 173.0000 - tn: 0.0000e+00 - fp: 156.0000 - fn: 0.0000e+00 - precision: 0.5258 - recall: 1.0000 - auc: 0.5000 - val_loss: 0.6917 - val_accuracy: 0.5273 - val_tp: 58.0000 - val_tn: 0.0000e+00 - val_fp: 52.0000 - val_fn: 0.0000e+00 - val_precision: 0.5273 - val_recall: 1.0000 - val_auc: 0.5000\n",
      "Epoch 28/100\n",
      "1/1 [==============================] - 1s 611ms/step - loss: 0.6918 - accuracy: 0.5258 - tp: 173.0000 - tn: 0.0000e+00 - fp: 156.0000 - fn: 0.0000e+00 - precision: 0.5258 - recall: 1.0000 - auc: 0.5000 - val_loss: 0.6917 - val_accuracy: 0.5273 - val_tp: 58.0000 - val_tn: 0.0000e+00 - val_fp: 52.0000 - val_fn: 0.0000e+00 - val_precision: 0.5273 - val_recall: 1.0000 - val_auc: 0.5000\n",
      "Epoch 29/100\n",
      "1/1 [==============================] - 1s 562ms/step - loss: 0.6918 - accuracy: 0.5258 - tp: 173.0000 - tn: 0.0000e+00 - fp: 156.0000 - fn: 0.0000e+00 - precision: 0.5258 - recall: 1.0000 - auc: 0.5000 - val_loss: 0.6917 - val_accuracy: 0.5273 - val_tp: 58.0000 - val_tn: 0.0000e+00 - val_fp: 52.0000 - val_fn: 0.0000e+00 - val_precision: 0.5273 - val_recall: 1.0000 - val_auc: 0.5000\n",
      "Epoch 30/100\n",
      "1/1 [==============================] - 1s 570ms/step - loss: 0.6918 - accuracy: 0.5258 - tp: 173.0000 - tn: 0.0000e+00 - fp: 156.0000 - fn: 0.0000e+00 - precision: 0.5258 - recall: 1.0000 - auc: 0.5000 - val_loss: 0.6917 - val_accuracy: 0.5273 - val_tp: 58.0000 - val_tn: 0.0000e+00 - val_fp: 52.0000 - val_fn: 0.0000e+00 - val_precision: 0.5273 - val_recall: 1.0000 - val_auc: 0.5000\n",
      "Epoch 31/100\n",
      "1/1 [==============================] - 1s 557ms/step - loss: 0.6918 - accuracy: 0.5258 - tp: 173.0000 - tn: 0.0000e+00 - fp: 156.0000 - fn: 0.0000e+00 - precision: 0.5258 - recall: 1.0000 - auc: 0.5000 - val_loss: 0.6917 - val_accuracy: 0.5273 - val_tp: 58.0000 - val_tn: 0.0000e+00 - val_fp: 52.0000 - val_fn: 0.0000e+00 - val_precision: 0.5273 - val_recall: 1.0000 - val_auc: 0.5000\n",
      "Epoch 32/100\n",
      "1/1 [==============================] - 1s 629ms/step - loss: 0.6918 - accuracy: 0.5258 - tp: 173.0000 - tn: 0.0000e+00 - fp: 156.0000 - fn: 0.0000e+00 - precision: 0.5258 - recall: 1.0000 - auc: 0.5000 - val_loss: 0.6917 - val_accuracy: 0.5273 - val_tp: 58.0000 - val_tn: 0.0000e+00 - val_fp: 52.0000 - val_fn: 0.0000e+00 - val_precision: 0.5273 - val_recall: 1.0000 - val_auc: 0.5000\n",
      "Epoch 33/100\n",
      "1/1 [==============================] - 1s 595ms/step - loss: 0.6918 - accuracy: 0.5258 - tp: 173.0000 - tn: 0.0000e+00 - fp: 156.0000 - fn: 0.0000e+00 - precision: 0.5258 - recall: 1.0000 - auc: 0.5000 - val_loss: 0.6917 - val_accuracy: 0.5273 - val_tp: 58.0000 - val_tn: 0.0000e+00 - val_fp: 52.0000 - val_fn: 0.0000e+00 - val_precision: 0.5273 - val_recall: 1.0000 - val_auc: 0.5000\n",
      "Epoch 34/100\n",
      "1/1 [==============================] - 1s 589ms/step - loss: 0.6918 - accuracy: 0.5258 - tp: 173.0000 - tn: 0.0000e+00 - fp: 156.0000 - fn: 0.0000e+00 - precision: 0.5258 - recall: 1.0000 - auc: 0.5000 - val_loss: 0.6917 - val_accuracy: 0.5273 - val_tp: 58.0000 - val_tn: 0.0000e+00 - val_fp: 52.0000 - val_fn: 0.0000e+00 - val_precision: 0.5273 - val_recall: 1.0000 - val_auc: 0.5000\n",
      "Epoch 35/100\n",
      "1/1 [==============================] - 1s 560ms/step - loss: 0.6918 - accuracy: 0.5258 - tp: 173.0000 - tn: 0.0000e+00 - fp: 156.0000 - fn: 0.0000e+00 - precision: 0.5258 - recall: 1.0000 - auc: 0.5000 - val_loss: 0.6917 - val_accuracy: 0.5273 - val_tp: 58.0000 - val_tn: 0.0000e+00 - val_fp: 52.0000 - val_fn: 0.0000e+00 - val_precision: 0.5273 - val_recall: 1.0000 - val_auc: 0.5000\n",
      "Epoch 36/100\n",
      "1/1 [==============================] - 1s 561ms/step - loss: 0.6918 - accuracy: 0.5258 - tp: 173.0000 - tn: 0.0000e+00 - fp: 156.0000 - fn: 0.0000e+00 - precision: 0.5258 - recall: 1.0000 - auc: 0.5000 - val_loss: 0.6917 - val_accuracy: 0.5273 - val_tp: 58.0000 - val_tn: 0.0000e+00 - val_fp: 52.0000 - val_fn: 0.0000e+00 - val_precision: 0.5273 - val_recall: 1.0000 - val_auc: 0.5000\n",
      "Epoch 37/100\n",
      "1/1 [==============================] - 1s 559ms/step - loss: 0.6918 - accuracy: 0.5258 - tp: 173.0000 - tn: 0.0000e+00 - fp: 156.0000 - fn: 0.0000e+00 - precision: 0.5258 - recall: 1.0000 - auc: 0.5000 - val_loss: 0.6917 - val_accuracy: 0.5273 - val_tp: 58.0000 - val_tn: 0.0000e+00 - val_fp: 52.0000 - val_fn: 0.0000e+00 - val_precision: 0.5273 - val_recall: 1.0000 - val_auc: 0.5000\n",
      "Epoch 38/100\n",
      "1/1 [==============================] - 1s 546ms/step - loss: 0.6918 - accuracy: 0.5258 - tp: 173.0000 - tn: 0.0000e+00 - fp: 156.0000 - fn: 0.0000e+00 - precision: 0.5258 - recall: 1.0000 - auc: 0.5000 - val_loss: 0.6917 - val_accuracy: 0.5273 - val_tp: 58.0000 - val_tn: 0.0000e+00 - val_fp: 52.0000 - val_fn: 0.0000e+00 - val_precision: 0.5273 - val_recall: 1.0000 - val_auc: 0.5000\n",
      "Epoch 39/100\n",
      "1/1 [==============================] - 1s 584ms/step - loss: 0.6918 - accuracy: 0.5258 - tp: 173.0000 - tn: 0.0000e+00 - fp: 156.0000 - fn: 0.0000e+00 - precision: 0.5258 - recall: 1.0000 - auc: 0.5000 - val_loss: 0.6917 - val_accuracy: 0.5273 - val_tp: 58.0000 - val_tn: 0.0000e+00 - val_fp: 52.0000 - val_fn: 0.0000e+00 - val_precision: 0.5273 - val_recall: 1.0000 - val_auc: 0.5000\n",
      "Epoch 40/100\n",
      "1/1 [==============================] - 1s 572ms/step - loss: 0.6918 - accuracy: 0.5258 - tp: 173.0000 - tn: 0.0000e+00 - fp: 156.0000 - fn: 0.0000e+00 - precision: 0.5258 - recall: 1.0000 - auc: 0.5000 - val_loss: 0.6917 - val_accuracy: 0.5273 - val_tp: 58.0000 - val_tn: 0.0000e+00 - val_fp: 52.0000 - val_fn: 0.0000e+00 - val_precision: 0.5273 - val_recall: 1.0000 - val_auc: 0.5000\n",
      "Epoch 41/100\n",
      "1/1 [==============================] - 1s 565ms/step - loss: 0.6918 - accuracy: 0.5258 - tp: 173.0000 - tn: 0.0000e+00 - fp: 156.0000 - fn: 0.0000e+00 - precision: 0.5258 - recall: 1.0000 - auc: 0.5000 - val_loss: 0.6917 - val_accuracy: 0.5273 - val_tp: 58.0000 - val_tn: 0.0000e+00 - val_fp: 52.0000 - val_fn: 0.0000e+00 - val_precision: 0.5273 - val_recall: 1.0000 - val_auc: 0.5000\n",
      "Epoch 42/100\n",
      "1/1 [==============================] - 1s 606ms/step - loss: 0.6918 - accuracy: 0.5258 - tp: 173.0000 - tn: 0.0000e+00 - fp: 156.0000 - fn: 0.0000e+00 - precision: 0.5258 - recall: 1.0000 - auc: 0.5000 - val_loss: 0.6917 - val_accuracy: 0.5273 - val_tp: 58.0000 - val_tn: 0.0000e+00 - val_fp: 52.0000 - val_fn: 0.0000e+00 - val_precision: 0.5273 - val_recall: 1.0000 - val_auc: 0.5000\n"
     ]
    },
    {
     "name": "stdout",
     "output_type": "stream",
     "text": [
      "Epoch 43/100\n",
      "1/1 [==============================] - 1s 595ms/step - loss: 0.6918 - accuracy: 0.5258 - tp: 173.0000 - tn: 0.0000e+00 - fp: 156.0000 - fn: 0.0000e+00 - precision: 0.5258 - recall: 1.0000 - auc: 0.5000 - val_loss: 0.6917 - val_accuracy: 0.5273 - val_tp: 58.0000 - val_tn: 0.0000e+00 - val_fp: 52.0000 - val_fn: 0.0000e+00 - val_precision: 0.5273 - val_recall: 1.0000 - val_auc: 0.5000\n",
      "Epoch 44/100\n",
      "1/1 [==============================] - 1s 621ms/step - loss: 0.6918 - accuracy: 0.5258 - tp: 173.0000 - tn: 0.0000e+00 - fp: 156.0000 - fn: 0.0000e+00 - precision: 0.5258 - recall: 1.0000 - auc: 0.5000 - val_loss: 0.6917 - val_accuracy: 0.5273 - val_tp: 58.0000 - val_tn: 0.0000e+00 - val_fp: 52.0000 - val_fn: 0.0000e+00 - val_precision: 0.5273 - val_recall: 1.0000 - val_auc: 0.5000\n",
      "Epoch 45/100\n",
      "1/1 [==============================] - 1s 590ms/step - loss: 0.6918 - accuracy: 0.5258 - tp: 173.0000 - tn: 0.0000e+00 - fp: 156.0000 - fn: 0.0000e+00 - precision: 0.5258 - recall: 1.0000 - auc: 0.5000 - val_loss: 0.6917 - val_accuracy: 0.5273 - val_tp: 58.0000 - val_tn: 0.0000e+00 - val_fp: 52.0000 - val_fn: 0.0000e+00 - val_precision: 0.5273 - val_recall: 1.0000 - val_auc: 0.5000\n",
      "Epoch 46/100\n",
      "1/1 [==============================] - 1s 564ms/step - loss: 0.6918 - accuracy: 0.5258 - tp: 173.0000 - tn: 0.0000e+00 - fp: 156.0000 - fn: 0.0000e+00 - precision: 0.5258 - recall: 1.0000 - auc: 0.5000 - val_loss: 0.6917 - val_accuracy: 0.5273 - val_tp: 58.0000 - val_tn: 0.0000e+00 - val_fp: 52.0000 - val_fn: 0.0000e+00 - val_precision: 0.5273 - val_recall: 1.0000 - val_auc: 0.5000\n",
      "Epoch 47/100\n",
      "1/1 [==============================] - 1s 646ms/step - loss: 0.6918 - accuracy: 0.5258 - tp: 173.0000 - tn: 0.0000e+00 - fp: 156.0000 - fn: 0.0000e+00 - precision: 0.5258 - recall: 1.0000 - auc: 0.5000 - val_loss: 0.6917 - val_accuracy: 0.5273 - val_tp: 58.0000 - val_tn: 0.0000e+00 - val_fp: 52.0000 - val_fn: 0.0000e+00 - val_precision: 0.5273 - val_recall: 1.0000 - val_auc: 0.5000\n",
      "Epoch 48/100\n",
      "1/1 [==============================] - 1s 607ms/step - loss: 0.6918 - accuracy: 0.5258 - tp: 173.0000 - tn: 0.0000e+00 - fp: 156.0000 - fn: 0.0000e+00 - precision: 0.5258 - recall: 1.0000 - auc: 0.5000 - val_loss: 0.6917 - val_accuracy: 0.5273 - val_tp: 58.0000 - val_tn: 0.0000e+00 - val_fp: 52.0000 - val_fn: 0.0000e+00 - val_precision: 0.5273 - val_recall: 1.0000 - val_auc: 0.5000\n",
      "Epoch 49/100\n",
      "1/1 [==============================] - 1s 578ms/step - loss: 0.6918 - accuracy: 0.5258 - tp: 173.0000 - tn: 0.0000e+00 - fp: 156.0000 - fn: 0.0000e+00 - precision: 0.5258 - recall: 1.0000 - auc: 0.5000 - val_loss: 0.6917 - val_accuracy: 0.5273 - val_tp: 58.0000 - val_tn: 0.0000e+00 - val_fp: 52.0000 - val_fn: 0.0000e+00 - val_precision: 0.5273 - val_recall: 1.0000 - val_auc: 0.5000\n",
      "Epoch 50/100\n",
      "1/1 [==============================] - 1s 793ms/step - loss: 0.6918 - accuracy: 0.5258 - tp: 173.0000 - tn: 0.0000e+00 - fp: 156.0000 - fn: 0.0000e+00 - precision: 0.5258 - recall: 1.0000 - auc: 0.5000 - val_loss: 0.6917 - val_accuracy: 0.5273 - val_tp: 58.0000 - val_tn: 0.0000e+00 - val_fp: 52.0000 - val_fn: 0.0000e+00 - val_precision: 0.5273 - val_recall: 1.0000 - val_auc: 0.5000\n",
      "Epoch 51/100\n",
      "1/1 [==============================] - 1s 562ms/step - loss: 0.6918 - accuracy: 0.5258 - tp: 173.0000 - tn: 0.0000e+00 - fp: 156.0000 - fn: 0.0000e+00 - precision: 0.5258 - recall: 1.0000 - auc: 0.5000 - val_loss: 0.6917 - val_accuracy: 0.5273 - val_tp: 58.0000 - val_tn: 0.0000e+00 - val_fp: 52.0000 - val_fn: 0.0000e+00 - val_precision: 0.5273 - val_recall: 1.0000 - val_auc: 0.5000\n",
      "Epoch 52/100\n",
      "1/1 [==============================] - 1s 595ms/step - loss: 0.6918 - accuracy: 0.5258 - tp: 173.0000 - tn: 0.0000e+00 - fp: 156.0000 - fn: 0.0000e+00 - precision: 0.5258 - recall: 1.0000 - auc: 0.5000 - val_loss: 0.6917 - val_accuracy: 0.5273 - val_tp: 58.0000 - val_tn: 0.0000e+00 - val_fp: 52.0000 - val_fn: 0.0000e+00 - val_precision: 0.5273 - val_recall: 1.0000 - val_auc: 0.5000\n",
      "Epoch 53/100\n",
      "1/1 [==============================] - 1s 550ms/step - loss: 0.6918 - accuracy: 0.5258 - tp: 173.0000 - tn: 0.0000e+00 - fp: 156.0000 - fn: 0.0000e+00 - precision: 0.5258 - recall: 1.0000 - auc: 0.5000 - val_loss: 0.6917 - val_accuracy: 0.5273 - val_tp: 58.0000 - val_tn: 0.0000e+00 - val_fp: 52.0000 - val_fn: 0.0000e+00 - val_precision: 0.5273 - val_recall: 1.0000 - val_auc: 0.5000\n",
      "Epoch 54/100\n",
      "1/1 [==============================] - 1s 636ms/step - loss: 0.6918 - accuracy: 0.5258 - tp: 173.0000 - tn: 0.0000e+00 - fp: 156.0000 - fn: 0.0000e+00 - precision: 0.5258 - recall: 1.0000 - auc: 0.5000 - val_loss: 0.6917 - val_accuracy: 0.5273 - val_tp: 58.0000 - val_tn: 0.0000e+00 - val_fp: 52.0000 - val_fn: 0.0000e+00 - val_precision: 0.5273 - val_recall: 1.0000 - val_auc: 0.5000\n",
      "Epoch 55/100\n",
      "1/1 [==============================] - 1s 610ms/step - loss: 0.6918 - accuracy: 0.5258 - tp: 173.0000 - tn: 0.0000e+00 - fp: 156.0000 - fn: 0.0000e+00 - precision: 0.5258 - recall: 1.0000 - auc: 0.5000 - val_loss: 0.6917 - val_accuracy: 0.5273 - val_tp: 58.0000 - val_tn: 0.0000e+00 - val_fp: 52.0000 - val_fn: 0.0000e+00 - val_precision: 0.5273 - val_recall: 1.0000 - val_auc: 0.5000\n",
      "Epoch 56/100\n",
      "1/1 [==============================] - 1s 589ms/step - loss: 0.6918 - accuracy: 0.5258 - tp: 173.0000 - tn: 0.0000e+00 - fp: 156.0000 - fn: 0.0000e+00 - precision: 0.5258 - recall: 1.0000 - auc: 0.5000 - val_loss: 0.6917 - val_accuracy: 0.5273 - val_tp: 58.0000 - val_tn: 0.0000e+00 - val_fp: 52.0000 - val_fn: 0.0000e+00 - val_precision: 0.5273 - val_recall: 1.0000 - val_auc: 0.5000\n",
      "Epoch 57/100\n",
      "1/1 [==============================] - 1s 606ms/step - loss: 0.6918 - accuracy: 0.5258 - tp: 173.0000 - tn: 0.0000e+00 - fp: 156.0000 - fn: 0.0000e+00 - precision: 0.5258 - recall: 1.0000 - auc: 0.5000 - val_loss: 0.6917 - val_accuracy: 0.5273 - val_tp: 58.0000 - val_tn: 0.0000e+00 - val_fp: 52.0000 - val_fn: 0.0000e+00 - val_precision: 0.5273 - val_recall: 1.0000 - val_auc: 0.5000\n",
      "Epoch 58/100\n",
      "1/1 [==============================] - 1s 559ms/step - loss: 0.6918 - accuracy: 0.5258 - tp: 173.0000 - tn: 0.0000e+00 - fp: 156.0000 - fn: 0.0000e+00 - precision: 0.5258 - recall: 1.0000 - auc: 0.5000 - val_loss: 0.6917 - val_accuracy: 0.5273 - val_tp: 58.0000 - val_tn: 0.0000e+00 - val_fp: 52.0000 - val_fn: 0.0000e+00 - val_precision: 0.5273 - val_recall: 1.0000 - val_auc: 0.5000\n",
      "Epoch 59/100\n",
      "1/1 [==============================] - 1s 598ms/step - loss: 0.6918 - accuracy: 0.5258 - tp: 173.0000 - tn: 0.0000e+00 - fp: 156.0000 - fn: 0.0000e+00 - precision: 0.5258 - recall: 1.0000 - auc: 0.5000 - val_loss: 0.6917 - val_accuracy: 0.5273 - val_tp: 58.0000 - val_tn: 0.0000e+00 - val_fp: 52.0000 - val_fn: 0.0000e+00 - val_precision: 0.5273 - val_recall: 1.0000 - val_auc: 0.5000\n",
      "Epoch 60/100\n",
      "1/1 [==============================] - 1s 574ms/step - loss: 0.6918 - accuracy: 0.5258 - tp: 173.0000 - tn: 0.0000e+00 - fp: 156.0000 - fn: 0.0000e+00 - precision: 0.5258 - recall: 1.0000 - auc: 0.5000 - val_loss: 0.6917 - val_accuracy: 0.5273 - val_tp: 58.0000 - val_tn: 0.0000e+00 - val_fp: 52.0000 - val_fn: 0.0000e+00 - val_precision: 0.5273 - val_recall: 1.0000 - val_auc: 0.5000\n",
      "Epoch 61/100\n",
      "1/1 [==============================] - 1s 585ms/step - loss: 0.6918 - accuracy: 0.5258 - tp: 173.0000 - tn: 0.0000e+00 - fp: 156.0000 - fn: 0.0000e+00 - precision: 0.5258 - recall: 1.0000 - auc: 0.5000 - val_loss: 0.6917 - val_accuracy: 0.5273 - val_tp: 58.0000 - val_tn: 0.0000e+00 - val_fp: 52.0000 - val_fn: 0.0000e+00 - val_precision: 0.5273 - val_recall: 1.0000 - val_auc: 0.5000\n",
      "Epoch 62/100\n",
      "1/1 [==============================] - 1s 565ms/step - loss: 0.6918 - accuracy: 0.5258 - tp: 173.0000 - tn: 0.0000e+00 - fp: 156.0000 - fn: 0.0000e+00 - precision: 0.5258 - recall: 1.0000 - auc: 0.5000 - val_loss: 0.6917 - val_accuracy: 0.5273 - val_tp: 58.0000 - val_tn: 0.0000e+00 - val_fp: 52.0000 - val_fn: 0.0000e+00 - val_precision: 0.5273 - val_recall: 1.0000 - val_auc: 0.5000\n",
      "Epoch 63/100\n",
      "1/1 [==============================] - 1s 577ms/step - loss: 0.6918 - accuracy: 0.5258 - tp: 173.0000 - tn: 0.0000e+00 - fp: 156.0000 - fn: 0.0000e+00 - precision: 0.5258 - recall: 1.0000 - auc: 0.5000 - val_loss: 0.6917 - val_accuracy: 0.5273 - val_tp: 58.0000 - val_tn: 0.0000e+00 - val_fp: 52.0000 - val_fn: 0.0000e+00 - val_precision: 0.5273 - val_recall: 1.0000 - val_auc: 0.5000\n"
     ]
    },
    {
     "name": "stdout",
     "output_type": "stream",
     "text": [
      "Epoch 64/100\n",
      "1/1 [==============================] - 1s 564ms/step - loss: 0.6918 - accuracy: 0.5258 - tp: 173.0000 - tn: 0.0000e+00 - fp: 156.0000 - fn: 0.0000e+00 - precision: 0.5258 - recall: 1.0000 - auc: 0.5000 - val_loss: 0.6917 - val_accuracy: 0.5273 - val_tp: 58.0000 - val_tn: 0.0000e+00 - val_fp: 52.0000 - val_fn: 0.0000e+00 - val_precision: 0.5273 - val_recall: 1.0000 - val_auc: 0.5000\n",
      "Epoch 65/100\n",
      "1/1 [==============================] - 1s 583ms/step - loss: 0.6918 - accuracy: 0.5258 - tp: 173.0000 - tn: 0.0000e+00 - fp: 156.0000 - fn: 0.0000e+00 - precision: 0.5258 - recall: 1.0000 - auc: 0.5000 - val_loss: 0.6917 - val_accuracy: 0.5273 - val_tp: 58.0000 - val_tn: 0.0000e+00 - val_fp: 52.0000 - val_fn: 0.0000e+00 - val_precision: 0.5273 - val_recall: 1.0000 - val_auc: 0.5000\n",
      "Epoch 66/100\n",
      "1/1 [==============================] - 1s 581ms/step - loss: 0.6918 - accuracy: 0.5258 - tp: 173.0000 - tn: 0.0000e+00 - fp: 156.0000 - fn: 0.0000e+00 - precision: 0.5258 - recall: 1.0000 - auc: 0.5000 - val_loss: 0.6917 - val_accuracy: 0.5273 - val_tp: 58.0000 - val_tn: 0.0000e+00 - val_fp: 52.0000 - val_fn: 0.0000e+00 - val_precision: 0.5273 - val_recall: 1.0000 - val_auc: 0.5000\n",
      "Epoch 67/100\n",
      "1/1 [==============================] - 1s 575ms/step - loss: 0.6918 - accuracy: 0.5258 - tp: 173.0000 - tn: 0.0000e+00 - fp: 156.0000 - fn: 0.0000e+00 - precision: 0.5258 - recall: 1.0000 - auc: 0.5000 - val_loss: 0.6917 - val_accuracy: 0.5273 - val_tp: 58.0000 - val_tn: 0.0000e+00 - val_fp: 52.0000 - val_fn: 0.0000e+00 - val_precision: 0.5273 - val_recall: 1.0000 - val_auc: 0.5000\n",
      "Epoch 68/100\n",
      "1/1 [==============================] - 1s 559ms/step - loss: 0.6918 - accuracy: 0.5258 - tp: 173.0000 - tn: 0.0000e+00 - fp: 156.0000 - fn: 0.0000e+00 - precision: 0.5258 - recall: 1.0000 - auc: 0.5000 - val_loss: 0.6917 - val_accuracy: 0.5273 - val_tp: 58.0000 - val_tn: 0.0000e+00 - val_fp: 52.0000 - val_fn: 0.0000e+00 - val_precision: 0.5273 - val_recall: 1.0000 - val_auc: 0.5000\n",
      "Epoch 69/100\n",
      "1/1 [==============================] - 1s 616ms/step - loss: 0.6918 - accuracy: 0.5258 - tp: 173.0000 - tn: 0.0000e+00 - fp: 156.0000 - fn: 0.0000e+00 - precision: 0.5258 - recall: 1.0000 - auc: 0.5000 - val_loss: 0.6917 - val_accuracy: 0.5273 - val_tp: 58.0000 - val_tn: 0.0000e+00 - val_fp: 52.0000 - val_fn: 0.0000e+00 - val_precision: 0.5273 - val_recall: 1.0000 - val_auc: 0.5000\n",
      "Epoch 70/100\n",
      "1/1 [==============================] - 1s 613ms/step - loss: 0.6918 - accuracy: 0.5258 - tp: 173.0000 - tn: 0.0000e+00 - fp: 156.0000 - fn: 0.0000e+00 - precision: 0.5258 - recall: 1.0000 - auc: 0.5000 - val_loss: 0.6917 - val_accuracy: 0.5273 - val_tp: 58.0000 - val_tn: 0.0000e+00 - val_fp: 52.0000 - val_fn: 0.0000e+00 - val_precision: 0.5273 - val_recall: 1.0000 - val_auc: 0.5000\n",
      "Epoch 71/100\n",
      "1/1 [==============================] - 1s 583ms/step - loss: 0.6918 - accuracy: 0.5258 - tp: 173.0000 - tn: 0.0000e+00 - fp: 156.0000 - fn: 0.0000e+00 - precision: 0.5258 - recall: 1.0000 - auc: 0.5000 - val_loss: 0.6917 - val_accuracy: 0.5273 - val_tp: 58.0000 - val_tn: 0.0000e+00 - val_fp: 52.0000 - val_fn: 0.0000e+00 - val_precision: 0.5273 - val_recall: 1.0000 - val_auc: 0.5000\n",
      "Epoch 72/100\n",
      "1/1 [==============================] - 1s 582ms/step - loss: 0.6918 - accuracy: 0.5258 - tp: 173.0000 - tn: 0.0000e+00 - fp: 156.0000 - fn: 0.0000e+00 - precision: 0.5258 - recall: 1.0000 - auc: 0.5000 - val_loss: 0.6917 - val_accuracy: 0.5273 - val_tp: 58.0000 - val_tn: 0.0000e+00 - val_fp: 52.0000 - val_fn: 0.0000e+00 - val_precision: 0.5273 - val_recall: 1.0000 - val_auc: 0.5000\n",
      "Epoch 73/100\n",
      "1/1 [==============================] - 1s 583ms/step - loss: 0.6918 - accuracy: 0.5258 - tp: 173.0000 - tn: 0.0000e+00 - fp: 156.0000 - fn: 0.0000e+00 - precision: 0.5258 - recall: 1.0000 - auc: 0.5000 - val_loss: 0.6917 - val_accuracy: 0.5273 - val_tp: 58.0000 - val_tn: 0.0000e+00 - val_fp: 52.0000 - val_fn: 0.0000e+00 - val_precision: 0.5273 - val_recall: 1.0000 - val_auc: 0.5000\n",
      "Epoch 74/100\n",
      "1/1 [==============================] - 1s 594ms/step - loss: 0.6918 - accuracy: 0.5258 - tp: 173.0000 - tn: 0.0000e+00 - fp: 156.0000 - fn: 0.0000e+00 - precision: 0.5258 - recall: 1.0000 - auc: 0.5000 - val_loss: 0.6917 - val_accuracy: 0.5273 - val_tp: 58.0000 - val_tn: 0.0000e+00 - val_fp: 52.0000 - val_fn: 0.0000e+00 - val_precision: 0.5273 - val_recall: 1.0000 - val_auc: 0.5000\n",
      "Epoch 75/100\n",
      "1/1 [==============================] - 1s 565ms/step - loss: 0.6918 - accuracy: 0.5258 - tp: 173.0000 - tn: 0.0000e+00 - fp: 156.0000 - fn: 0.0000e+00 - precision: 0.5258 - recall: 1.0000 - auc: 0.5000 - val_loss: 0.6917 - val_accuracy: 0.5273 - val_tp: 58.0000 - val_tn: 0.0000e+00 - val_fp: 52.0000 - val_fn: 0.0000e+00 - val_precision: 0.5273 - val_recall: 1.0000 - val_auc: 0.5000\n",
      "Epoch 76/100\n",
      "1/1 [==============================] - 1s 606ms/step - loss: 0.6918 - accuracy: 0.5258 - tp: 173.0000 - tn: 0.0000e+00 - fp: 156.0000 - fn: 0.0000e+00 - precision: 0.5258 - recall: 1.0000 - auc: 0.5000 - val_loss: 0.6917 - val_accuracy: 0.5273 - val_tp: 58.0000 - val_tn: 0.0000e+00 - val_fp: 52.0000 - val_fn: 0.0000e+00 - val_precision: 0.5273 - val_recall: 1.0000 - val_auc: 0.5000\n",
      "Epoch 77/100\n",
      "1/1 [==============================] - 1s 647ms/step - loss: 0.6918 - accuracy: 0.5258 - tp: 173.0000 - tn: 0.0000e+00 - fp: 156.0000 - fn: 0.0000e+00 - precision: 0.5258 - recall: 1.0000 - auc: 0.5000 - val_loss: 0.6917 - val_accuracy: 0.5273 - val_tp: 58.0000 - val_tn: 0.0000e+00 - val_fp: 52.0000 - val_fn: 0.0000e+00 - val_precision: 0.5273 - val_recall: 1.0000 - val_auc: 0.5000\n",
      "Epoch 78/100\n",
      "1/1 [==============================] - 1s 576ms/step - loss: 0.6918 - accuracy: 0.5258 - tp: 173.0000 - tn: 0.0000e+00 - fp: 156.0000 - fn: 0.0000e+00 - precision: 0.5258 - recall: 1.0000 - auc: 0.5000 - val_loss: 0.6917 - val_accuracy: 0.5273 - val_tp: 58.0000 - val_tn: 0.0000e+00 - val_fp: 52.0000 - val_fn: 0.0000e+00 - val_precision: 0.5273 - val_recall: 1.0000 - val_auc: 0.5000\n",
      "Epoch 79/100\n",
      "1/1 [==============================] - 1s 580ms/step - loss: 0.6918 - accuracy: 0.5258 - tp: 173.0000 - tn: 0.0000e+00 - fp: 156.0000 - fn: 0.0000e+00 - precision: 0.5258 - recall: 1.0000 - auc: 0.5000 - val_loss: 0.6917 - val_accuracy: 0.5273 - val_tp: 58.0000 - val_tn: 0.0000e+00 - val_fp: 52.0000 - val_fn: 0.0000e+00 - val_precision: 0.5273 - val_recall: 1.0000 - val_auc: 0.5000\n",
      "Epoch 80/100\n",
      "1/1 [==============================] - 1s 563ms/step - loss: 0.6918 - accuracy: 0.5258 - tp: 173.0000 - tn: 0.0000e+00 - fp: 156.0000 - fn: 0.0000e+00 - precision: 0.5258 - recall: 1.0000 - auc: 0.5000 - val_loss: 0.6917 - val_accuracy: 0.5273 - val_tp: 58.0000 - val_tn: 0.0000e+00 - val_fp: 52.0000 - val_fn: 0.0000e+00 - val_precision: 0.5273 - val_recall: 1.0000 - val_auc: 0.5000\n",
      "Epoch 81/100\n",
      "1/1 [==============================] - 1s 649ms/step - loss: 0.6918 - accuracy: 0.5258 - tp: 173.0000 - tn: 0.0000e+00 - fp: 156.0000 - fn: 0.0000e+00 - precision: 0.5258 - recall: 1.0000 - auc: 0.5000 - val_loss: 0.6917 - val_accuracy: 0.5273 - val_tp: 58.0000 - val_tn: 0.0000e+00 - val_fp: 52.0000 - val_fn: 0.0000e+00 - val_precision: 0.5273 - val_recall: 1.0000 - val_auc: 0.5000\n",
      "Epoch 82/100\n",
      "1/1 [==============================] - 1s 588ms/step - loss: 0.6918 - accuracy: 0.5258 - tp: 173.0000 - tn: 0.0000e+00 - fp: 156.0000 - fn: 0.0000e+00 - precision: 0.5258 - recall: 1.0000 - auc: 0.5000 - val_loss: 0.6917 - val_accuracy: 0.5273 - val_tp: 58.0000 - val_tn: 0.0000e+00 - val_fp: 52.0000 - val_fn: 0.0000e+00 - val_precision: 0.5273 - val_recall: 1.0000 - val_auc: 0.5000\n",
      "Epoch 83/100\n",
      "1/1 [==============================] - 1s 569ms/step - loss: 0.6918 - accuracy: 0.5258 - tp: 173.0000 - tn: 0.0000e+00 - fp: 156.0000 - fn: 0.0000e+00 - precision: 0.5258 - recall: 1.0000 - auc: 0.5000 - val_loss: 0.6917 - val_accuracy: 0.5273 - val_tp: 58.0000 - val_tn: 0.0000e+00 - val_fp: 52.0000 - val_fn: 0.0000e+00 - val_precision: 0.5273 - val_recall: 1.0000 - val_auc: 0.5000\n",
      "Epoch 84/100\n",
      "1/1 [==============================] - 1s 555ms/step - loss: 0.6918 - accuracy: 0.5258 - tp: 173.0000 - tn: 0.0000e+00 - fp: 156.0000 - fn: 0.0000e+00 - precision: 0.5258 - recall: 1.0000 - auc: 0.5000 - val_loss: 0.6917 - val_accuracy: 0.5273 - val_tp: 58.0000 - val_tn: 0.0000e+00 - val_fp: 52.0000 - val_fn: 0.0000e+00 - val_precision: 0.5273 - val_recall: 1.0000 - val_auc: 0.5000\n"
     ]
    },
    {
     "name": "stdout",
     "output_type": "stream",
     "text": [
      "Epoch 85/100\n",
      "1/1 [==============================] - 1s 665ms/step - loss: 0.6918 - accuracy: 0.5258 - tp: 173.0000 - tn: 0.0000e+00 - fp: 156.0000 - fn: 0.0000e+00 - precision: 0.5258 - recall: 1.0000 - auc: 0.5000 - val_loss: 0.6917 - val_accuracy: 0.5273 - val_tp: 58.0000 - val_tn: 0.0000e+00 - val_fp: 52.0000 - val_fn: 0.0000e+00 - val_precision: 0.5273 - val_recall: 1.0000 - val_auc: 0.5000\n",
      "Epoch 86/100\n",
      "1/1 [==============================] - 1s 571ms/step - loss: 0.6918 - accuracy: 0.5258 - tp: 173.0000 - tn: 0.0000e+00 - fp: 156.0000 - fn: 0.0000e+00 - precision: 0.5258 - recall: 1.0000 - auc: 0.5000 - val_loss: 0.6917 - val_accuracy: 0.5273 - val_tp: 58.0000 - val_tn: 0.0000e+00 - val_fp: 52.0000 - val_fn: 0.0000e+00 - val_precision: 0.5273 - val_recall: 1.0000 - val_auc: 0.5000\n",
      "Epoch 87/100\n",
      "1/1 [==============================] - 1s 589ms/step - loss: 0.6918 - accuracy: 0.5258 - tp: 173.0000 - tn: 0.0000e+00 - fp: 156.0000 - fn: 0.0000e+00 - precision: 0.5258 - recall: 1.0000 - auc: 0.5000 - val_loss: 0.6917 - val_accuracy: 0.5273 - val_tp: 58.0000 - val_tn: 0.0000e+00 - val_fp: 52.0000 - val_fn: 0.0000e+00 - val_precision: 0.5273 - val_recall: 1.0000 - val_auc: 0.5000\n",
      "Epoch 88/100\n",
      "1/1 [==============================] - 1s 598ms/step - loss: 0.6918 - accuracy: 0.5258 - tp: 173.0000 - tn: 0.0000e+00 - fp: 156.0000 - fn: 0.0000e+00 - precision: 0.5258 - recall: 1.0000 - auc: 0.5000 - val_loss: 0.6917 - val_accuracy: 0.5273 - val_tp: 58.0000 - val_tn: 0.0000e+00 - val_fp: 52.0000 - val_fn: 0.0000e+00 - val_precision: 0.5273 - val_recall: 1.0000 - val_auc: 0.5000\n",
      "Epoch 89/100\n",
      "1/1 [==============================] - 1s 544ms/step - loss: 0.6918 - accuracy: 0.5258 - tp: 173.0000 - tn: 0.0000e+00 - fp: 156.0000 - fn: 0.0000e+00 - precision: 0.5258 - recall: 1.0000 - auc: 0.5000 - val_loss: 0.6917 - val_accuracy: 0.5273 - val_tp: 58.0000 - val_tn: 0.0000e+00 - val_fp: 52.0000 - val_fn: 0.0000e+00 - val_precision: 0.5273 - val_recall: 1.0000 - val_auc: 0.5000\n",
      "Epoch 90/100\n",
      "1/1 [==============================] - 1s 551ms/step - loss: 0.6918 - accuracy: 0.5258 - tp: 173.0000 - tn: 0.0000e+00 - fp: 156.0000 - fn: 0.0000e+00 - precision: 0.5258 - recall: 1.0000 - auc: 0.5000 - val_loss: 0.6917 - val_accuracy: 0.5273 - val_tp: 58.0000 - val_tn: 0.0000e+00 - val_fp: 52.0000 - val_fn: 0.0000e+00 - val_precision: 0.5273 - val_recall: 1.0000 - val_auc: 0.5000\n",
      "Epoch 91/100\n",
      "1/1 [==============================] - 1s 558ms/step - loss: 0.6918 - accuracy: 0.5258 - tp: 173.0000 - tn: 0.0000e+00 - fp: 156.0000 - fn: 0.0000e+00 - precision: 0.5258 - recall: 1.0000 - auc: 0.5000 - val_loss: 0.6917 - val_accuracy: 0.5273 - val_tp: 58.0000 - val_tn: 0.0000e+00 - val_fp: 52.0000 - val_fn: 0.0000e+00 - val_precision: 0.5273 - val_recall: 1.0000 - val_auc: 0.5000\n",
      "Epoch 92/100\n",
      "1/1 [==============================] - 1s 597ms/step - loss: 0.6918 - accuracy: 0.5258 - tp: 173.0000 - tn: 0.0000e+00 - fp: 156.0000 - fn: 0.0000e+00 - precision: 0.5258 - recall: 1.0000 - auc: 0.5000 - val_loss: 0.6917 - val_accuracy: 0.5273 - val_tp: 58.0000 - val_tn: 0.0000e+00 - val_fp: 52.0000 - val_fn: 0.0000e+00 - val_precision: 0.5273 - val_recall: 1.0000 - val_auc: 0.5000\n",
      "Epoch 93/100\n",
      "1/1 [==============================] - 1s 553ms/step - loss: 0.6918 - accuracy: 0.5258 - tp: 173.0000 - tn: 0.0000e+00 - fp: 156.0000 - fn: 0.0000e+00 - precision: 0.5258 - recall: 1.0000 - auc: 0.5000 - val_loss: 0.6917 - val_accuracy: 0.5273 - val_tp: 58.0000 - val_tn: 0.0000e+00 - val_fp: 52.0000 - val_fn: 0.0000e+00 - val_precision: 0.5273 - val_recall: 1.0000 - val_auc: 0.5000\n",
      "Epoch 94/100\n",
      "1/1 [==============================] - 1s 627ms/step - loss: 0.6918 - accuracy: 0.5258 - tp: 173.0000 - tn: 0.0000e+00 - fp: 156.0000 - fn: 0.0000e+00 - precision: 0.5258 - recall: 1.0000 - auc: 0.5000 - val_loss: 0.6917 - val_accuracy: 0.5273 - val_tp: 58.0000 - val_tn: 0.0000e+00 - val_fp: 52.0000 - val_fn: 0.0000e+00 - val_precision: 0.5273 - val_recall: 1.0000 - val_auc: 0.5000\n",
      "Epoch 95/100\n",
      "1/1 [==============================] - 1s 575ms/step - loss: 0.6918 - accuracy: 0.5258 - tp: 173.0000 - tn: 0.0000e+00 - fp: 156.0000 - fn: 0.0000e+00 - precision: 0.5258 - recall: 1.0000 - auc: 0.5000 - val_loss: 0.6917 - val_accuracy: 0.5273 - val_tp: 58.0000 - val_tn: 0.0000e+00 - val_fp: 52.0000 - val_fn: 0.0000e+00 - val_precision: 0.5273 - val_recall: 1.0000 - val_auc: 0.5000\n",
      "Epoch 96/100\n",
      "1/1 [==============================] - 1s 647ms/step - loss: 0.6918 - accuracy: 0.5258 - tp: 173.0000 - tn: 0.0000e+00 - fp: 156.0000 - fn: 0.0000e+00 - precision: 0.5258 - recall: 1.0000 - auc: 0.5000 - val_loss: 0.6917 - val_accuracy: 0.5273 - val_tp: 58.0000 - val_tn: 0.0000e+00 - val_fp: 52.0000 - val_fn: 0.0000e+00 - val_precision: 0.5273 - val_recall: 1.0000 - val_auc: 0.5000\n",
      "Epoch 97/100\n",
      "1/1 [==============================] - 1s 621ms/step - loss: 0.6918 - accuracy: 0.5258 - tp: 173.0000 - tn: 0.0000e+00 - fp: 156.0000 - fn: 0.0000e+00 - precision: 0.5258 - recall: 1.0000 - auc: 0.5000 - val_loss: 0.6917 - val_accuracy: 0.5273 - val_tp: 58.0000 - val_tn: 0.0000e+00 - val_fp: 52.0000 - val_fn: 0.0000e+00 - val_precision: 0.5273 - val_recall: 1.0000 - val_auc: 0.5000\n",
      "Epoch 98/100\n",
      "1/1 [==============================] - 1s 577ms/step - loss: 0.6918 - accuracy: 0.5258 - tp: 173.0000 - tn: 0.0000e+00 - fp: 156.0000 - fn: 0.0000e+00 - precision: 0.5258 - recall: 1.0000 - auc: 0.5000 - val_loss: 0.6917 - val_accuracy: 0.5273 - val_tp: 58.0000 - val_tn: 0.0000e+00 - val_fp: 52.0000 - val_fn: 0.0000e+00 - val_precision: 0.5273 - val_recall: 1.0000 - val_auc: 0.5000\n",
      "Epoch 99/100\n",
      "1/1 [==============================] - 1s 647ms/step - loss: 0.6918 - accuracy: 0.5258 - tp: 173.0000 - tn: 0.0000e+00 - fp: 156.0000 - fn: 0.0000e+00 - precision: 0.5258 - recall: 1.0000 - auc: 0.5000 - val_loss: 0.6917 - val_accuracy: 0.5273 - val_tp: 58.0000 - val_tn: 0.0000e+00 - val_fp: 52.0000 - val_fn: 0.0000e+00 - val_precision: 0.5273 - val_recall: 1.0000 - val_auc: 0.5000\n",
      "Epoch 100/100\n",
      "1/1 [==============================] - 1s 561ms/step - loss: 0.6918 - accuracy: 0.5258 - tp: 173.0000 - tn: 0.0000e+00 - fp: 156.0000 - fn: 0.0000e+00 - precision: 0.5258 - recall: 1.0000 - auc: 0.5000 - val_loss: 0.6917 - val_accuracy: 0.5273 - val_tp: 58.0000 - val_tn: 0.0000e+00 - val_fp: 52.0000 - val_fn: 0.0000e+00 - val_precision: 0.5273 - val_recall: 1.0000 - val_auc: 0.5000\n"
     ]
    },
    {
     "data": {
      "text/plain": [
       "<tensorflow.python.keras.callbacks.History at 0x2e276e11508>"
      ]
     },
     "execution_count": 213,
     "metadata": {},
     "output_type": "execute_result"
    }
   ],
   "source": [
    " # Training the model\n",
    "batch_size = 586\n",
    "epochs = 100\n",
    "model.fit(\n",
    "    X_train,\n",
    "    y_train,\n",
    "    validation_data=(X_val, y_val),\n",
    "    epochs=epochs,\n",
    "    batch_size=batch_size,\n",
    "    verbose=1,\n",
    ")"
   ]
  },
  {
   "cell_type": "code",
   "execution_count": 214,
   "metadata": {},
   "outputs": [],
   "source": [
    "# Predict classes using the testing data\n",
    "y_pred = model.predict_classes(X_test, batch_size=100)"
   ]
  },
  {
   "cell_type": "code",
   "execution_count": 215,
   "metadata": {},
   "outputs": [
    {
     "name": "stdout",
     "output_type": "stream",
     "text": [
      "RNN LSTM Accuracy 0.52\n"
     ]
    }
   ],
   "source": [
    "# Accuracy\n",
    "from sklearn.metrics import accuracy_score\n",
    "\n",
    "print(\"RNN LSTM Accuracy %.2f\" %  (accuracy_score(y_test, y_pred)))\n"
   ]
  },
  {
   "cell_type": "code",
   "execution_count": 216,
   "metadata": {},
   "outputs": [],
   "source": [
    " # Import the confusion_matrix method from sklearn\n",
    "from sklearn.metrics import confusion_matrix"
   ]
  },
  {
   "cell_type": "code",
   "execution_count": 217,
   "metadata": {},
   "outputs": [
    {
     "name": "stdout",
     "output_type": "stream",
     "text": [
      "Confusion Matrix from the RNN LSTM Model\n"
     ]
    },
    {
     "data": {
      "text/html": [
       "<div>\n",
       "<style scoped>\n",
       "    .dataframe tbody tr th:only-of-type {\n",
       "        vertical-align: middle;\n",
       "    }\n",
       "\n",
       "    .dataframe tbody tr th {\n",
       "        vertical-align: top;\n",
       "    }\n",
       "\n",
       "    .dataframe thead th {\n",
       "        text-align: right;\n",
       "    }\n",
       "</style>\n",
       "<table border=\"1\" class=\"dataframe\">\n",
       "  <thead>\n",
       "    <tr style=\"text-align: right;\">\n",
       "      <th>Predicted</th>\n",
       "      <th>Positive(1)</th>\n",
       "      <th>Negative(0)</th>\n",
       "    </tr>\n",
       "    <tr>\n",
       "      <th>Actual</th>\n",
       "      <th></th>\n",
       "      <th></th>\n",
       "    </tr>\n",
       "  </thead>\n",
       "  <tbody>\n",
       "    <tr>\n",
       "      <th>Positive(1)</th>\n",
       "      <td>TP=77</td>\n",
       "      <td>FN=0</td>\n",
       "    </tr>\n",
       "    <tr>\n",
       "      <th>Negative(0)</th>\n",
       "      <td>FP=70</td>\n",
       "      <td>TN=0</td>\n",
       "    </tr>\n",
       "  </tbody>\n",
       "</table>\n",
       "</div>"
      ],
      "text/plain": [
       "Predicted   Positive(1) Negative(0)\n",
       "Actual                             \n",
       "Positive(1)       TP=77        FN=0\n",
       "Negative(0)       FP=70        TN=0"
      ]
     },
     "metadata": {},
     "output_type": "display_data"
    }
   ],
   "source": [
    " # Confusion matrtix metrics from the RNN LSTM model\n",
    "tn_rnn, fp_rnn, fn_rnn, tp_rnn = confusion_matrix(y_test, y_pred).ravel()\n",
    "\n",
    "# Dataframe to display confusion matrix from the RNN LSTM model\n",
    "cm_rnn_df = pd.DataFrame(\n",
    "    {\n",
    "        \"Positive(1)\": [f\"TP={tp_rnn}\", f\"FP={fp_rnn}\"],\n",
    "        \"Negative(0)\": [f\"FN={fn_rnn}\", f\"TN={tn_rnn}\"],\n",
    "    },\n",
    "    index=[\"Positive(1)\", \"Negative(0)\"],\n",
    ")\n",
    "cm_rnn_df.index.name = \"Actual\"\n",
    "cm_rnn_df.columns.name = \"Predicted\"\n",
    "print(\"Confusion Matrix from the RNN LSTM Model\")\n",
    "display(cm_rnn_df)"
   ]
  },
  {
   "cell_type": "code",
   "execution_count": 218,
   "metadata": {},
   "outputs": [],
   "source": [
    " # Import the classification_report method from sklearn\n",
    "from sklearn.metrics import classification_report"
   ]
  },
  {
   "cell_type": "code",
   "execution_count": 219,
   "metadata": {},
   "outputs": [
    {
     "name": "stdout",
     "output_type": "stream",
     "text": [
      "Classification Report for the RNN LSTM Model\n",
      "              precision    recall  f1-score   support\n",
      "\n",
      "         0.0       0.00      0.00      0.00         0\n",
      "         1.0       1.00      0.52      0.69       147\n",
      "\n",
      "    accuracy                           0.52       147\n",
      "   macro avg       0.50      0.26      0.34       147\n",
      "weighted avg       1.00      0.52      0.69       147\n",
      "\n"
     ]
    },
    {
     "name": "stderr",
     "output_type": "stream",
     "text": [
      "C:\\Users\\Zach.000\\anaconda3\\envs\\dev1\\lib\\site-packages\\sklearn\\metrics\\_classification.py:1221: UndefinedMetricWarning: Recall and F-score are ill-defined and being set to 0.0 in labels with no true samples. Use `zero_division` parameter to control this behavior.\n",
      "  _warn_prf(average, modifier, msg_start, len(result))\n"
     ]
    }
   ],
   "source": [
    "# Display classification report for the RNN LSTM Model\n",
    "print(\"Classification Report for the RNN LSTM Model\")\n",
    "print(classification_report(y_pred, y_test))"
   ]
  },
  {
   "cell_type": "code",
   "execution_count": 220,
   "metadata": {},
   "outputs": [],
   "source": [
    " # Import the roc_curve and auc metrics from sklearn\n",
    "from sklearn.metrics import roc_curve, auc"
   ]
  },
  {
   "cell_type": "code",
   "execution_count": 221,
   "metadata": {},
   "outputs": [],
   "source": [
    " # Making predictions to feed the roc_curve module\n",
    "test_predictions_rnn = model.predict(X_test, batch_size=100000)"
   ]
  },
  {
   "cell_type": "code",
   "execution_count": 222,
   "metadata": {},
   "outputs": [],
   "source": [
    "# Data for ROC Curve - RNN LSTM Model\n",
    "fpr_test_rnn, tpr_test_rnn, thresholds_test_rnn = roc_curve(y_test, test_predictions_rnn)"
   ]
  },
  {
   "cell_type": "code",
   "execution_count": 223,
   "metadata": {},
   "outputs": [],
   "source": [
    " # AUC for the RNN LSTM Model\n",
    "auc_test_rnn = auc(fpr_test_rnn, tpr_test_rnn)\n",
    "auc_test_rnn = round(auc_test_rnn, 4)"
   ]
  },
  {
   "cell_type": "code",
   "execution_count": 224,
   "metadata": {},
   "outputs": [],
   "source": [
    " # Dataframe to plot ROC Curve for the RNN LSTM model\n",
    "roc_df_test_rnn = pd.DataFrame({\"FPR Test\": fpr_test_rnn, \"TPR Test\": tpr_test_rnn,})"
   ]
  },
  {
   "cell_type": "code",
   "execution_count": 225,
   "metadata": {},
   "outputs": [
    {
     "data": {
      "text/plain": [
       "<matplotlib.axes._subplots.AxesSubplot at 0x2e277e9d108>"
      ]
     },
     "execution_count": 225,
     "metadata": {},
     "output_type": "execute_result"
    },
    {
     "data": {
      "image/png": "[encoded data removed]",
      "text/plain": [
       "<Figure size 432x288 with 1 Axes>"
      ]
     },
     "metadata": {
      "needs_background": "light"
     },
     "output_type": "display_data"
    }
   ],
   "source": [
    " roc_df_test_rnn.plot(\n",
    "    x=\"FPR Test\",\n",
    "    y=\"TPR Test\",\n",
    "    color=\"blue\",\n",
    "    style=\"--\",\n",
    "    xlim=([-0.05, 1.05]),\n",
    "    title=f\"Test ROC Curve (AUC={auc_test_rnn})\",\n",
    ")"
   ]
  },
  {
   "cell_type": "code",
   "execution_count": null,
   "metadata": {},
   "outputs": [],
   "source": []
  }
 ],
 "metadata": {
  "kernelspec": {
   "display_name": "Python 3",
   "language": "python",
   "name": "python3"
  },
  "language_info": {
   "codemirror_mode": {
    "name": "ipython",
    "version": 3
   },
   "file_extension": ".py",
   "mimetype": "text/x-python",
   "name": "python",
   "nbconvert_exporter": "python",
   "pygments_lexer": "ipython3",
   "version": "3.7.7"
  }
 },
 "nbformat": 4,
 "nbformat_minor": 4
}
