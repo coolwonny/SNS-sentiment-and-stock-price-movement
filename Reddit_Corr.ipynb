{
 "cells": [
  {
   "cell_type": "code",
   "execution_count": 1,
   "metadata": {},
   "outputs": [
    {
     "name": "stderr",
     "output_type": "stream",
     "text": [
      "In C:\\Users\\markf\\anaconda3\\envs\\dev\\lib\\site-packages\\matplotlib\\mpl-data\\stylelib\\_classic_test.mplstyle: \n",
      "The savefig.frameon rcparam was deprecated in Matplotlib 3.1 and will be removed in 3.3.\n",
      "In C:\\Users\\markf\\anaconda3\\envs\\dev\\lib\\site-packages\\matplotlib\\mpl-data\\stylelib\\_classic_test.mplstyle: \n",
      "The verbose.level rcparam was deprecated in Matplotlib 3.1 and will be removed in 3.3.\n",
      "In C:\\Users\\markf\\anaconda3\\envs\\dev\\lib\\site-packages\\matplotlib\\mpl-data\\stylelib\\_classic_test.mplstyle: \n",
      "The verbose.fileo rcparam was deprecated in Matplotlib 3.1 and will be removed in 3.3.\n"
     ]
    }
   ],
   "source": [
    "import pandas as pd\n",
    "import numpy as np\n",
    "import re\n",
    "import matplotlib.pyplot as plt\n",
    "import plotly.express as px\n",
    "import os\n",
    "from textblob import TextBlob\n",
    "import datetime as dt\n",
    "from wordcloud import WordCloud, STOPWORDS\n",
    "plt.style.use('seaborn-whitegrid')"
   ]
  },
  {
   "cell_type": "code",
   "execution_count": 2,
   "metadata": {},
   "outputs": [],
   "source": [
    "from nltk.tokenize import word_tokenize\n",
    "from nltk.stem import WordNetLemmatizer \n",
    "from nltk.corpus import stopwords "
   ]
  },
  {
   "cell_type": "code",
   "execution_count": 8,
   "metadata": {},
   "outputs": [],
   "source": [
    "# Import csv file into a dataframe\n",
    "df_reddit = pd.read_csv('Reddit_Data_Cleaned.csv')"
   ]
  },
  {
   "cell_type": "code",
   "execution_count": 9,
   "metadata": {},
   "outputs": [
    {
     "data": {
      "text/html": [
       "<div>\n",
       "<style scoped>\n",
       "    .dataframe tbody tr th:only-of-type {\n",
       "        vertical-align: middle;\n",
       "    }\n",
       "\n",
       "    .dataframe tbody tr th {\n",
       "        vertical-align: top;\n",
       "    }\n",
       "\n",
       "    .dataframe thead th {\n",
       "        text-align: right;\n",
       "    }\n",
       "</style>\n",
       "<table border=\"1\" class=\"dataframe\">\n",
       "  <thead>\n",
       "    <tr style=\"text-align: right;\">\n",
       "      <th></th>\n",
       "      <th>Unnamed: 0</th>\n",
       "      <th>subreddit</th>\n",
       "      <th>text</th>\n",
       "      <th>Subjectivity</th>\n",
       "      <th>Polarity</th>\n",
       "      <th>date only</th>\n",
       "      <th>hour</th>\n",
       "      <th>date_y</th>\n",
       "      <th>Adj Close</th>\n",
       "      <th>hourly return</th>\n",
       "      <th>tick</th>\n",
       "    </tr>\n",
       "  </thead>\n",
       "  <tbody>\n",
       "    <tr>\n",
       "      <th>0</th>\n",
       "      <td>16225</td>\n",
       "      <td>wallstreetbets</td>\n",
       "      <td>anyone playing tesla earnings? i keep hearing ...</td>\n",
       "      <td>0.680</td>\n",
       "      <td>0.086667</td>\n",
       "      <td>2018-10-22</td>\n",
       "      <td>13</td>\n",
       "      <td>2018-10-22 13:30:00-05:00</td>\n",
       "      <td>52.009998</td>\n",
       "      <td>0.012222</td>\n",
       "      <td>1.0</td>\n",
       "    </tr>\n",
       "    <tr>\n",
       "      <th>1</th>\n",
       "      <td>16226</td>\n",
       "      <td>wallstreetbets</td>\n",
       "      <td>&amp;gt; tesla  what news? model 3 ship numbers?</td>\n",
       "      <td>0.000</td>\n",
       "      <td>0.000000</td>\n",
       "      <td>2018-10-22</td>\n",
       "      <td>13</td>\n",
       "      <td>2018-10-22 13:30:00-05:00</td>\n",
       "      <td>52.009998</td>\n",
       "      <td>0.012222</td>\n",
       "      <td>1.0</td>\n",
       "    </tr>\n",
       "    <tr>\n",
       "      <th>2</th>\n",
       "      <td>16227</td>\n",
       "      <td>wallstreetbets</td>\n",
       "      <td>its odd timing since i think tesla will have s...</td>\n",
       "      <td>0.425</td>\n",
       "      <td>0.038889</td>\n",
       "      <td>2018-10-22</td>\n",
       "      <td>12</td>\n",
       "      <td>2018-10-22 12:30:00-05:00</td>\n",
       "      <td>51.382000</td>\n",
       "      <td>-0.000622</td>\n",
       "      <td>0.0</td>\n",
       "    </tr>\n",
       "    <tr>\n",
       "      <th>3</th>\n",
       "      <td>16228</td>\n",
       "      <td>wallstreetbets</td>\n",
       "      <td>its $tsla so i get it but at the same time dam...</td>\n",
       "      <td>0.375</td>\n",
       "      <td>0.104167</td>\n",
       "      <td>2018-10-22</td>\n",
       "      <td>12</td>\n",
       "      <td>2018-10-22 12:30:00-05:00</td>\n",
       "      <td>51.382000</td>\n",
       "      <td>-0.000622</td>\n",
       "      <td>0.0</td>\n",
       "    </tr>\n",
       "    <tr>\n",
       "      <th>4</th>\n",
       "      <td>16229</td>\n",
       "      <td>wallstreetbets</td>\n",
       "      <td>man if $tsla could stop burning like a tire fi...</td>\n",
       "      <td>0.750</td>\n",
       "      <td>0.800000</td>\n",
       "      <td>2018-10-22</td>\n",
       "      <td>12</td>\n",
       "      <td>2018-10-22 12:30:00-05:00</td>\n",
       "      <td>51.382000</td>\n",
       "      <td>-0.000622</td>\n",
       "      <td>0.0</td>\n",
       "    </tr>\n",
       "  </tbody>\n",
       "</table>\n",
       "</div>"
      ],
      "text/plain": [
       "   Unnamed: 0       subreddit  \\\n",
       "0       16225  wallstreetbets   \n",
       "1       16226  wallstreetbets   \n",
       "2       16227  wallstreetbets   \n",
       "3       16228  wallstreetbets   \n",
       "4       16229  wallstreetbets   \n",
       "\n",
       "                                                text  Subjectivity  Polarity  \\\n",
       "0  anyone playing tesla earnings? i keep hearing ...         0.680  0.086667   \n",
       "1       &gt; tesla  what news? model 3 ship numbers?         0.000  0.000000   \n",
       "2  its odd timing since i think tesla will have s...         0.425  0.038889   \n",
       "3  its $tsla so i get it but at the same time dam...         0.375  0.104167   \n",
       "4  man if $tsla could stop burning like a tire fi...         0.750  0.800000   \n",
       "\n",
       "    date only  hour                     date_y  Adj Close  hourly return  tick  \n",
       "0  2018-10-22    13  2018-10-22 13:30:00-05:00  52.009998       0.012222   1.0  \n",
       "1  2018-10-22    13  2018-10-22 13:30:00-05:00  52.009998       0.012222   1.0  \n",
       "2  2018-10-22    12  2018-10-22 12:30:00-05:00  51.382000      -0.000622   0.0  \n",
       "3  2018-10-22    12  2018-10-22 12:30:00-05:00  51.382000      -0.000622   0.0  \n",
       "4  2018-10-22    12  2018-10-22 12:30:00-05:00  51.382000      -0.000622   0.0  "
      ]
     },
     "execution_count": 9,
     "metadata": {},
     "output_type": "execute_result"
    }
   ],
   "source": [
    "df_reddit.head()"
   ]
  },
  {
   "cell_type": "code",
   "execution_count": 10,
   "metadata": {},
   "outputs": [],
   "source": [
    "df_reddit = df_reddit.drop(columns = ['Adj Close', 'Unnamed: 0', 'subreddit'])"
   ]
  },
  {
   "cell_type": "code",
   "execution_count": 11,
   "metadata": {},
   "outputs": [
    {
     "data": {
      "text/html": [
       "<div>\n",
       "<style scoped>\n",
       "    .dataframe tbody tr th:only-of-type {\n",
       "        vertical-align: middle;\n",
       "    }\n",
       "\n",
       "    .dataframe tbody tr th {\n",
       "        vertical-align: top;\n",
       "    }\n",
       "\n",
       "    .dataframe thead th {\n",
       "        text-align: right;\n",
       "    }\n",
       "</style>\n",
       "<table border=\"1\" class=\"dataframe\">\n",
       "  <thead>\n",
       "    <tr style=\"text-align: right;\">\n",
       "      <th></th>\n",
       "      <th>text</th>\n",
       "      <th>Subjectivity</th>\n",
       "      <th>Polarity</th>\n",
       "      <th>date only</th>\n",
       "      <th>hour</th>\n",
       "      <th>date_y</th>\n",
       "      <th>hourly return</th>\n",
       "      <th>tick</th>\n",
       "    </tr>\n",
       "  </thead>\n",
       "  <tbody>\n",
       "    <tr>\n",
       "      <th>0</th>\n",
       "      <td>anyone playing tesla earnings? i keep hearing ...</td>\n",
       "      <td>0.680</td>\n",
       "      <td>0.086667</td>\n",
       "      <td>2018-10-22</td>\n",
       "      <td>13</td>\n",
       "      <td>2018-10-22 13:30:00-05:00</td>\n",
       "      <td>0.012222</td>\n",
       "      <td>1.0</td>\n",
       "    </tr>\n",
       "    <tr>\n",
       "      <th>1</th>\n",
       "      <td>&amp;gt; tesla  what news? model 3 ship numbers?</td>\n",
       "      <td>0.000</td>\n",
       "      <td>0.000000</td>\n",
       "      <td>2018-10-22</td>\n",
       "      <td>13</td>\n",
       "      <td>2018-10-22 13:30:00-05:00</td>\n",
       "      <td>0.012222</td>\n",
       "      <td>1.0</td>\n",
       "    </tr>\n",
       "    <tr>\n",
       "      <th>2</th>\n",
       "      <td>its odd timing since i think tesla will have s...</td>\n",
       "      <td>0.425</td>\n",
       "      <td>0.038889</td>\n",
       "      <td>2018-10-22</td>\n",
       "      <td>12</td>\n",
       "      <td>2018-10-22 12:30:00-05:00</td>\n",
       "      <td>-0.000622</td>\n",
       "      <td>0.0</td>\n",
       "    </tr>\n",
       "    <tr>\n",
       "      <th>3</th>\n",
       "      <td>its $tsla so i get it but at the same time dam...</td>\n",
       "      <td>0.375</td>\n",
       "      <td>0.104167</td>\n",
       "      <td>2018-10-22</td>\n",
       "      <td>12</td>\n",
       "      <td>2018-10-22 12:30:00-05:00</td>\n",
       "      <td>-0.000622</td>\n",
       "      <td>0.0</td>\n",
       "    </tr>\n",
       "    <tr>\n",
       "      <th>4</th>\n",
       "      <td>man if $tsla could stop burning like a tire fi...</td>\n",
       "      <td>0.750</td>\n",
       "      <td>0.800000</td>\n",
       "      <td>2018-10-22</td>\n",
       "      <td>12</td>\n",
       "      <td>2018-10-22 12:30:00-05:00</td>\n",
       "      <td>-0.000622</td>\n",
       "      <td>0.0</td>\n",
       "    </tr>\n",
       "  </tbody>\n",
       "</table>\n",
       "</div>"
      ],
      "text/plain": [
       "                                                text  Subjectivity  Polarity  \\\n",
       "0  anyone playing tesla earnings? i keep hearing ...         0.680  0.086667   \n",
       "1       &gt; tesla  what news? model 3 ship numbers?         0.000  0.000000   \n",
       "2  its odd timing since i think tesla will have s...         0.425  0.038889   \n",
       "3  its $tsla so i get it but at the same time dam...         0.375  0.104167   \n",
       "4  man if $tsla could stop burning like a tire fi...         0.750  0.800000   \n",
       "\n",
       "    date only  hour                     date_y  hourly return  tick  \n",
       "0  2018-10-22    13  2018-10-22 13:30:00-05:00       0.012222   1.0  \n",
       "1  2018-10-22    13  2018-10-22 13:30:00-05:00       0.012222   1.0  \n",
       "2  2018-10-22    12  2018-10-22 12:30:00-05:00      -0.000622   0.0  \n",
       "3  2018-10-22    12  2018-10-22 12:30:00-05:00      -0.000622   0.0  \n",
       "4  2018-10-22    12  2018-10-22 12:30:00-05:00      -0.000622   0.0  "
      ]
     },
     "execution_count": 11,
     "metadata": {},
     "output_type": "execute_result"
    }
   ],
   "source": [
    "df_reddit.head()"
   ]
  },
  {
   "cell_type": "code",
   "execution_count": 15,
   "metadata": {},
   "outputs": [],
   "source": [
    "df_corr = df_reddit.corr()"
   ]
  },
  {
   "cell_type": "code",
   "execution_count": 18,
   "metadata": {},
   "outputs": [
    {
     "data": {
      "text/html": [
       "<div>\n",
       "<style scoped>\n",
       "    .dataframe tbody tr th:only-of-type {\n",
       "        vertical-align: middle;\n",
       "    }\n",
       "\n",
       "    .dataframe tbody tr th {\n",
       "        vertical-align: top;\n",
       "    }\n",
       "\n",
       "    .dataframe thead th {\n",
       "        text-align: right;\n",
       "    }\n",
       "</style>\n",
       "<table border=\"1\" class=\"dataframe\">\n",
       "  <thead>\n",
       "    <tr style=\"text-align: right;\">\n",
       "      <th></th>\n",
       "      <th>Subjectivity</th>\n",
       "      <th>Polarity</th>\n",
       "      <th>hour</th>\n",
       "      <th>hourly return</th>\n",
       "      <th>tick</th>\n",
       "    </tr>\n",
       "  </thead>\n",
       "  <tbody>\n",
       "    <tr>\n",
       "      <th>Subjectivity</th>\n",
       "      <td>1.000000</td>\n",
       "      <td>0.002043</td>\n",
       "      <td>-0.005601</td>\n",
       "      <td>0.001481</td>\n",
       "      <td>0.002601</td>\n",
       "    </tr>\n",
       "    <tr>\n",
       "      <th>Polarity</th>\n",
       "      <td>0.002043</td>\n",
       "      <td>1.000000</td>\n",
       "      <td>-0.000253</td>\n",
       "      <td>0.000159</td>\n",
       "      <td>-0.000054</td>\n",
       "    </tr>\n",
       "    <tr>\n",
       "      <th>hour</th>\n",
       "      <td>-0.005601</td>\n",
       "      <td>-0.000253</td>\n",
       "      <td>1.000000</td>\n",
       "      <td>-0.110852</td>\n",
       "      <td>-0.047333</td>\n",
       "    </tr>\n",
       "    <tr>\n",
       "      <th>hourly return</th>\n",
       "      <td>0.001481</td>\n",
       "      <td>0.000159</td>\n",
       "      <td>-0.110852</td>\n",
       "      <td>1.000000</td>\n",
       "      <td>0.566109</td>\n",
       "    </tr>\n",
       "    <tr>\n",
       "      <th>tick</th>\n",
       "      <td>0.002601</td>\n",
       "      <td>-0.000054</td>\n",
       "      <td>-0.047333</td>\n",
       "      <td>0.566109</td>\n",
       "      <td>1.000000</td>\n",
       "    </tr>\n",
       "  </tbody>\n",
       "</table>\n",
       "</div>"
      ],
      "text/plain": [
       "               Subjectivity  Polarity      hour  hourly return      tick\n",
       "Subjectivity       1.000000  0.002043 -0.005601       0.001481  0.002601\n",
       "Polarity           0.002043  1.000000 -0.000253       0.000159 -0.000054\n",
       "hour              -0.005601 -0.000253  1.000000      -0.110852 -0.047333\n",
       "hourly return      0.001481  0.000159 -0.110852       1.000000  0.566109\n",
       "tick               0.002601 -0.000054 -0.047333       0.566109  1.000000"
      ]
     },
     "execution_count": 18,
     "metadata": {},
     "output_type": "execute_result"
    }
   ],
   "source": [
    "df_corr"
   ]
  },
  {
   "cell_type": "code",
   "execution_count": 17,
   "metadata": {},
   "outputs": [
    {
     "data": {
      "text/plain": [
       "<matplotlib.axes._subplots.AxesSubplot at 0x1d07e70cfc8>"
      ]
     },
     "execution_count": 17,
     "metadata": {},
     "output_type": "execute_result"
    },
    {
     "data": {
      "image/png": "[encoded data removed]",
      "text/plain": [
       "<Figure size 432x288 with 2 Axes>"
      ]
     },
     "metadata": {
      "needs_background": "light"
     },
     "output_type": "display_data"
    }
   ],
   "source": [
    "import seaborn as sns\n",
    "sns.heatmap(df_corr)"
   ]
  },
  {
   "cell_type": "code",
   "execution_count": null,
   "metadata": {},
   "outputs": [],
   "source": []
  }
 ],
 "metadata": {
  "kernelspec": {
   "display_name": "Python 3",
   "language": "python",
   "name": "python3"
  },
  "language_info": {
   "codemirror_mode": {
    "name": "ipython",
    "version": 3
   },
   "file_extension": ".py",
   "mimetype": "text/x-python",
   "name": "python",
   "nbconvert_exporter": "python",
   "pygments_lexer": "ipython3",
   "version": "3.7.7"
  }
 },
 "nbformat": 4,
 "nbformat_minor": 4
}
